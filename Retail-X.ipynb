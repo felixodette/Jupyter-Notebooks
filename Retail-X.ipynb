{
 "cells": [
  {
   "cell_type": "code",
   "execution_count": 8,
   "metadata": {},
   "outputs": [
    {
     "data": {
      "text/html": [
       "<div>\n",
       "<style scoped>\n",
       "    .dataframe tbody tr th:only-of-type {\n",
       "        vertical-align: middle;\n",
       "    }\n",
       "\n",
       "    .dataframe tbody tr th {\n",
       "        vertical-align: top;\n",
       "    }\n",
       "\n",
       "    .dataframe thead th {\n",
       "        text-align: right;\n",
       "    }\n",
       "</style>\n",
       "<table border=\"1\" class=\"dataframe\">\n",
       "  <thead>\n",
       "    <tr style=\"text-align: right;\">\n",
       "      <th></th>\n",
       "      <th>PRODUCT CODE</th>\n",
       "      <th>PRODUCT CATEGORY</th>\n",
       "      <th>UNIT LIST PRICE</th>\n",
       "    </tr>\n",
       "  </thead>\n",
       "  <tbody>\n",
       "    <tr>\n",
       "      <th>0</th>\n",
       "      <td>30001</td>\n",
       "      <td>HEALTH &amp; BEAUTY</td>\n",
       "      <td>$7.45</td>\n",
       "    </tr>\n",
       "    <tr>\n",
       "      <th>1</th>\n",
       "      <td>30002</td>\n",
       "      <td>HEALTH &amp; BEAUTY</td>\n",
       "      <td>$5.35</td>\n",
       "    </tr>\n",
       "    <tr>\n",
       "      <th>2</th>\n",
       "      <td>30003</td>\n",
       "      <td>HEALTH &amp; BEAUTY</td>\n",
       "      <td>$5.49</td>\n",
       "    </tr>\n",
       "    <tr>\n",
       "      <th>3</th>\n",
       "      <td>30004</td>\n",
       "      <td>HEALTH &amp; BEAUTY</td>\n",
       "      <td>$6.46</td>\n",
       "    </tr>\n",
       "    <tr>\n",
       "      <th>4</th>\n",
       "      <td>30005</td>\n",
       "      <td>HEALTH &amp; BEAUTY</td>\n",
       "      <td>$7.33</td>\n",
       "    </tr>\n",
       "  </tbody>\n",
       "</table>\n",
       "</div>"
      ],
      "text/plain": [
       "   PRODUCT CODE PRODUCT CATEGORY UNIT LIST PRICE\n",
       "0         30001  HEALTH & BEAUTY          $7.45 \n",
       "1         30002  HEALTH & BEAUTY          $5.35 \n",
       "2         30003  HEALTH & BEAUTY          $5.49 \n",
       "3         30004  HEALTH & BEAUTY          $6.46 \n",
       "4         30005  HEALTH & BEAUTY          $7.33 "
      ]
     },
     "execution_count": 8,
     "metadata": {},
     "output_type": "execute_result"
    }
   ],
   "source": [
    "\n",
    "import types\n",
    "import pandas as pd\n",
    "# Product data import\n",
    "product_data = pd.read_csv('/Users/felixodette/Downloads/Student-Files/Product Data Set - Student 2 of 3.csv',sep='|')\n",
    "product_data.head()"
   ]
  },
  {
   "cell_type": "code",
   "execution_count": 13,
   "metadata": {},
   "outputs": [
    {
     "data": {
      "text/html": [
       "<div>\n",
       "<style scoped>\n",
       "    .dataframe tbody tr th:only-of-type {\n",
       "        vertical-align: middle;\n",
       "    }\n",
       "\n",
       "    .dataframe tbody tr th {\n",
       "        vertical-align: top;\n",
       "    }\n",
       "\n",
       "    .dataframe thead th {\n",
       "        text-align: right;\n",
       "    }\n",
       "</style>\n",
       "<table border=\"1\" class=\"dataframe\">\n",
       "  <thead>\n",
       "    <tr style=\"text-align: right;\">\n",
       "      <th></th>\n",
       "      <th>CUSTOMERID</th>\n",
       "      <th>GENDER</th>\n",
       "      <th>AGE</th>\n",
       "      <th>INCOME</th>\n",
       "      <th>EXPERIENCE SCORE</th>\n",
       "      <th>LOYALTY GROUP</th>\n",
       "      <th>ENROLLMENT DATE</th>\n",
       "      <th>HOUSEHOLD SIZE</th>\n",
       "      <th>MARITAL STATUS</th>\n",
       "    </tr>\n",
       "  </thead>\n",
       "  <tbody>\n",
       "    <tr>\n",
       "      <th>0</th>\n",
       "      <td>10001</td>\n",
       "      <td>0</td>\n",
       "      <td>64</td>\n",
       "      <td>$133,498</td>\n",
       "      <td>5</td>\n",
       "      <td>enrolled</td>\n",
       "      <td>06-03-2013</td>\n",
       "      <td>4</td>\n",
       "      <td>Single</td>\n",
       "    </tr>\n",
       "    <tr>\n",
       "      <th>1</th>\n",
       "      <td>10002</td>\n",
       "      <td>0</td>\n",
       "      <td>42</td>\n",
       "      <td>$94,475</td>\n",
       "      <td>9</td>\n",
       "      <td>notenrolled</td>\n",
       "      <td>NaN</td>\n",
       "      <td>6</td>\n",
       "      <td>Married</td>\n",
       "    </tr>\n",
       "    <tr>\n",
       "      <th>2</th>\n",
       "      <td>10003</td>\n",
       "      <td>0</td>\n",
       "      <td>40</td>\n",
       "      <td>$88,610</td>\n",
       "      <td>9</td>\n",
       "      <td>enrolled</td>\n",
       "      <td>02-09-2010</td>\n",
       "      <td>5</td>\n",
       "      <td>Married</td>\n",
       "    </tr>\n",
       "    <tr>\n",
       "      <th>3</th>\n",
       "      <td>10004</td>\n",
       "      <td>0</td>\n",
       "      <td>38</td>\n",
       "      <td>$84,313</td>\n",
       "      <td>8</td>\n",
       "      <td>enrolled</td>\n",
       "      <td>06-04-2015</td>\n",
       "      <td>1</td>\n",
       "      <td>Single</td>\n",
       "    </tr>\n",
       "    <tr>\n",
       "      <th>4</th>\n",
       "      <td>10005</td>\n",
       "      <td>0</td>\n",
       "      <td>30</td>\n",
       "      <td>$51,498</td>\n",
       "      <td>3</td>\n",
       "      <td>notenrolled</td>\n",
       "      <td>NaN</td>\n",
       "      <td>1</td>\n",
       "      <td>Single</td>\n",
       "    </tr>\n",
       "  </tbody>\n",
       "</table>\n",
       "</div>"
      ],
      "text/plain": [
       "   CUSTOMERID  GENDER  AGE    INCOME  EXPERIENCE SCORE LOYALTY GROUP  \\\n",
       "0       10001       0   64  $133,498                 5      enrolled   \n",
       "1       10002       0   42   $94,475                 9   notenrolled   \n",
       "2       10003       0   40   $88,610                 9      enrolled   \n",
       "3       10004       0   38   $84,313                 8      enrolled   \n",
       "4       10005       0   30   $51,498                 3   notenrolled   \n",
       "\n",
       "  ENROLLMENT DATE  HOUSEHOLD SIZE MARITAL STATUS  \n",
       "0      06-03-2013               4         Single  \n",
       "1             NaN               6        Married  \n",
       "2      02-09-2010               5        Married  \n",
       "3      06-04-2015               1         Single  \n",
       "4             NaN               1         Single  "
      ]
     },
     "execution_count": 13,
     "metadata": {},
     "output_type": "execute_result"
    }
   ],
   "source": [
    "# Customer data import\n",
    "customer_data = pd.read_csv('/Users/felixodette/Downloads/Student-Files/Customer Data Set - Student 1 of 3.csv',sep=',')\n",
    "customer_data.head()"
   ]
  },
  {
   "cell_type": "code",
   "execution_count": 14,
   "metadata": {},
   "outputs": [
    {
     "data": {
      "text/html": [
       "<div>\n",
       "<style scoped>\n",
       "    .dataframe tbody tr th:only-of-type {\n",
       "        vertical-align: middle;\n",
       "    }\n",
       "\n",
       "    .dataframe tbody tr th {\n",
       "        vertical-align: top;\n",
       "    }\n",
       "\n",
       "    .dataframe thead th {\n",
       "        text-align: right;\n",
       "    }\n",
       "</style>\n",
       "<table border=\"1\" class=\"dataframe\">\n",
       "  <thead>\n",
       "    <tr style=\"text-align: right;\">\n",
       "      <th></th>\n",
       "      <th>CUSTOMER NUM</th>\n",
       "      <th>PRODUCT NUM</th>\n",
       "      <th>QUANTITY PURCHASED</th>\n",
       "      <th>DISCOUNT TAKEN</th>\n",
       "      <th>TRANSACTION DATE</th>\n",
       "      <th>STOCKOUT</th>\n",
       "    </tr>\n",
       "  </thead>\n",
       "  <tbody>\n",
       "    <tr>\n",
       "      <th>0</th>\n",
       "      <td>10114</td>\n",
       "      <td>30011</td>\n",
       "      <td>4</td>\n",
       "      <td>0.0</td>\n",
       "      <td>1/2/2015</td>\n",
       "      <td>0</td>\n",
       "    </tr>\n",
       "    <tr>\n",
       "      <th>1</th>\n",
       "      <td>10217</td>\n",
       "      <td>30016</td>\n",
       "      <td>3</td>\n",
       "      <td>0.0</td>\n",
       "      <td>1/2/2015</td>\n",
       "      <td>0</td>\n",
       "    </tr>\n",
       "    <tr>\n",
       "      <th>2</th>\n",
       "      <td>10224</td>\n",
       "      <td>30013</td>\n",
       "      <td>4</td>\n",
       "      <td>0.0</td>\n",
       "      <td>1/2/2015</td>\n",
       "      <td>0</td>\n",
       "    </tr>\n",
       "    <tr>\n",
       "      <th>3</th>\n",
       "      <td>10103</td>\n",
       "      <td>30012</td>\n",
       "      <td>3</td>\n",
       "      <td>0.2</td>\n",
       "      <td>1/2/2015</td>\n",
       "      <td>0</td>\n",
       "    </tr>\n",
       "    <tr>\n",
       "      <th>4</th>\n",
       "      <td>10037</td>\n",
       "      <td>30010</td>\n",
       "      <td>8</td>\n",
       "      <td>0.0</td>\n",
       "      <td>1/2/2015</td>\n",
       "      <td>0</td>\n",
       "    </tr>\n",
       "  </tbody>\n",
       "</table>\n",
       "</div>"
      ],
      "text/plain": [
       "   CUSTOMER NUM  PRODUCT NUM  QUANTITY PURCHASED  DISCOUNT TAKEN  \\\n",
       "0         10114        30011                   4             0.0   \n",
       "1         10217        30016                   3             0.0   \n",
       "2         10224        30013                   4             0.0   \n",
       "3         10103        30012                   3             0.2   \n",
       "4         10037        30010                   8             0.0   \n",
       "\n",
       "  TRANSACTION DATE  STOCKOUT  \n",
       "0         1/2/2015         0  \n",
       "1         1/2/2015         0  \n",
       "2         1/2/2015         0  \n",
       "3         1/2/2015         0  \n",
       "4         1/2/2015         0  "
      ]
     },
     "execution_count": 14,
     "metadata": {},
     "output_type": "execute_result"
    }
   ],
   "source": [
    "# Transaction data import\n",
    "transaction_data = pd.read_csv('Transaction Data Set - Student 3 of 3.csv',sep='|')\n",
    "transaction_data.head()"
   ]
  },
  {
   "cell_type": "code",
   "execution_count": 15,
   "metadata": {},
   "outputs": [
    {
     "data": {
      "text/plain": [
       "(30, 3)"
      ]
     },
     "execution_count": 15,
     "metadata": {},
     "output_type": "execute_result"
    }
   ],
   "source": [
    "product_data.shape"
   ]
  },
  {
   "cell_type": "code",
   "execution_count": 16,
   "metadata": {},
   "outputs": [
    {
     "data": {
      "text/plain": [
       "(10000, 6)"
      ]
     },
     "execution_count": 16,
     "metadata": {},
     "output_type": "execute_result"
    }
   ],
   "source": [
    "transaction_data.shape"
   ]
  },
  {
   "cell_type": "code",
   "execution_count": 17,
   "metadata": {},
   "outputs": [
    {
     "data": {
      "text/plain": [
       "(500, 9)"
      ]
     },
     "execution_count": 17,
     "metadata": {},
     "output_type": "execute_result"
    }
   ],
   "source": [
    "customer_data.shape"
   ]
  },
  {
   "cell_type": "code",
   "execution_count": 18,
   "metadata": {},
   "outputs": [
    {
     "data": {
      "text/plain": [
       "pandas.core.frame.DataFrame"
      ]
     },
     "execution_count": 18,
     "metadata": {},
     "output_type": "execute_result"
    }
   ],
   "source": [
    "type(customer_data)"
   ]
  },
  {
   "cell_type": "code",
   "execution_count": 20,
   "metadata": {},
   "outputs": [
    {
     "data": {
      "text/plain": [
       "CUSTOMERID           int64\n",
       "GENDER               int64\n",
       "AGE                  int64\n",
       "INCOME              object\n",
       "EXPERIENCE SCORE     int64\n",
       "LOYALTY GROUP       object\n",
       "ENROLLMENT DATE     object\n",
       "HOUSEHOLD SIZE       int64\n",
       "MARITAL STATUS      object\n",
       "dtype: object"
      ]
     },
     "execution_count": 20,
     "metadata": {},
     "output_type": "execute_result"
    }
   ],
   "source": [
    "customer_data.dtypes"
   ]
  },
  {
   "cell_type": "code",
   "execution_count": 21,
   "metadata": {},
   "outputs": [
    {
     "data": {
      "text/plain": [
       "CUSTOMER NUM            int64\n",
       "PRODUCT NUM             int64\n",
       "QUANTITY PURCHASED      int64\n",
       "DISCOUNT TAKEN        float64\n",
       "TRANSACTION DATE       object\n",
       "STOCKOUT                int64\n",
       "dtype: object"
      ]
     },
     "execution_count": 21,
     "metadata": {},
     "output_type": "execute_result"
    }
   ],
   "source": [
    "transaction_data.dtypes"
   ]
  },
  {
   "cell_type": "raw",
   "metadata": {},
   "source": []
  },
  {
   "cell_type": "code",
   "execution_count": 22,
   "metadata": {},
   "outputs": [
    {
     "data": {
      "text/html": [
       "<div>\n",
       "<style scoped>\n",
       "    .dataframe tbody tr th:only-of-type {\n",
       "        vertical-align: middle;\n",
       "    }\n",
       "\n",
       "    .dataframe tbody tr th {\n",
       "        vertical-align: top;\n",
       "    }\n",
       "\n",
       "    .dataframe thead th {\n",
       "        text-align: right;\n",
       "    }\n",
       "</style>\n",
       "<table border=\"1\" class=\"dataframe\">\n",
       "  <thead>\n",
       "    <tr style=\"text-align: right;\">\n",
       "      <th></th>\n",
       "      <th>CUSTOMERID</th>\n",
       "      <th>GENDER</th>\n",
       "      <th>AGE</th>\n",
       "      <th>INCOME</th>\n",
       "      <th>EXPERIENCE SCORE</th>\n",
       "      <th>LOYALTY GROUP</th>\n",
       "      <th>ENROLLMENT DATE</th>\n",
       "      <th>HOUSEHOLD SIZE</th>\n",
       "      <th>MARITAL STATUS</th>\n",
       "    </tr>\n",
       "  </thead>\n",
       "  <tbody>\n",
       "    <tr>\n",
       "      <th>0</th>\n",
       "      <td>10001</td>\n",
       "      <td>0</td>\n",
       "      <td>64</td>\n",
       "      <td>$133,498</td>\n",
       "      <td>5</td>\n",
       "      <td>enrolled</td>\n",
       "      <td>06-03-2013</td>\n",
       "      <td>4</td>\n",
       "      <td>Single</td>\n",
       "    </tr>\n",
       "    <tr>\n",
       "      <th>1</th>\n",
       "      <td>10002</td>\n",
       "      <td>0</td>\n",
       "      <td>42</td>\n",
       "      <td>$94,475</td>\n",
       "      <td>9</td>\n",
       "      <td>notenrolled</td>\n",
       "      <td>NaN</td>\n",
       "      <td>6</td>\n",
       "      <td>Married</td>\n",
       "    </tr>\n",
       "    <tr>\n",
       "      <th>2</th>\n",
       "      <td>10003</td>\n",
       "      <td>0</td>\n",
       "      <td>40</td>\n",
       "      <td>$88,610</td>\n",
       "      <td>9</td>\n",
       "      <td>enrolled</td>\n",
       "      <td>02-09-2010</td>\n",
       "      <td>5</td>\n",
       "      <td>Married</td>\n",
       "    </tr>\n",
       "    <tr>\n",
       "      <th>3</th>\n",
       "      <td>10004</td>\n",
       "      <td>0</td>\n",
       "      <td>38</td>\n",
       "      <td>$84,313</td>\n",
       "      <td>8</td>\n",
       "      <td>enrolled</td>\n",
       "      <td>06-04-2015</td>\n",
       "      <td>1</td>\n",
       "      <td>Single</td>\n",
       "    </tr>\n",
       "    <tr>\n",
       "      <th>4</th>\n",
       "      <td>10005</td>\n",
       "      <td>0</td>\n",
       "      <td>30</td>\n",
       "      <td>$51,498</td>\n",
       "      <td>3</td>\n",
       "      <td>notenrolled</td>\n",
       "      <td>NaN</td>\n",
       "      <td>1</td>\n",
       "      <td>Single</td>\n",
       "    </tr>\n",
       "  </tbody>\n",
       "</table>\n",
       "</div>"
      ],
      "text/plain": [
       "   CUSTOMERID  GENDER  AGE    INCOME  EXPERIENCE SCORE LOYALTY GROUP  \\\n",
       "0       10001       0   64  $133,498                 5      enrolled   \n",
       "1       10002       0   42   $94,475                 9   notenrolled   \n",
       "2       10003       0   40   $88,610                 9      enrolled   \n",
       "3       10004       0   38   $84,313                 8      enrolled   \n",
       "4       10005       0   30   $51,498                 3   notenrolled   \n",
       "\n",
       "  ENROLLMENT DATE  HOUSEHOLD SIZE MARITAL STATUS  \n",
       "0      06-03-2013               4         Single  \n",
       "1             NaN               6        Married  \n",
       "2      02-09-2010               5        Married  \n",
       "3      06-04-2015               1         Single  \n",
       "4             NaN               1         Single  "
      ]
     },
     "execution_count": 22,
     "metadata": {},
     "output_type": "execute_result"
    }
   ],
   "source": [
    "customer_data.head()"
   ]
  },
  {
   "cell_type": "code",
   "execution_count": 26,
   "metadata": {},
   "outputs": [
    {
     "data": {
      "text/html": [
       "<div>\n",
       "<style scoped>\n",
       "    .dataframe tbody tr th:only-of-type {\n",
       "        vertical-align: middle;\n",
       "    }\n",
       "\n",
       "    .dataframe tbody tr th {\n",
       "        vertical-align: top;\n",
       "    }\n",
       "\n",
       "    .dataframe thead th {\n",
       "        text-align: right;\n",
       "    }\n",
       "</style>\n",
       "<table border=\"1\" class=\"dataframe\">\n",
       "  <thead>\n",
       "    <tr style=\"text-align: right;\">\n",
       "      <th></th>\n",
       "      <th>CUSTOMERID</th>\n",
       "      <th>GENDER</th>\n",
       "      <th>AGE</th>\n",
       "      <th>INCOME</th>\n",
       "      <th>EXPERIENCE SCORE</th>\n",
       "      <th>LOYALTY GROUP</th>\n",
       "      <th>ENROLLMENT DATE</th>\n",
       "      <th>HOUSEHOLD SIZE</th>\n",
       "      <th>MARITAL STATUS</th>\n",
       "    </tr>\n",
       "  </thead>\n",
       "  <tbody>\n",
       "    <tr>\n",
       "      <th>0</th>\n",
       "      <td>10001</td>\n",
       "      <td>0</td>\n",
       "      <td>64</td>\n",
       "      <td>133,498</td>\n",
       "      <td>5</td>\n",
       "      <td>enrolled</td>\n",
       "      <td>06-03-2013</td>\n",
       "      <td>4</td>\n",
       "      <td>Single</td>\n",
       "    </tr>\n",
       "    <tr>\n",
       "      <th>1</th>\n",
       "      <td>10002</td>\n",
       "      <td>0</td>\n",
       "      <td>42</td>\n",
       "      <td>94,475</td>\n",
       "      <td>9</td>\n",
       "      <td>notenrolled</td>\n",
       "      <td>NaN</td>\n",
       "      <td>6</td>\n",
       "      <td>Married</td>\n",
       "    </tr>\n",
       "    <tr>\n",
       "      <th>2</th>\n",
       "      <td>10003</td>\n",
       "      <td>0</td>\n",
       "      <td>40</td>\n",
       "      <td>88,610</td>\n",
       "      <td>9</td>\n",
       "      <td>enrolled</td>\n",
       "      <td>02-09-2010</td>\n",
       "      <td>5</td>\n",
       "      <td>Married</td>\n",
       "    </tr>\n",
       "    <tr>\n",
       "      <th>3</th>\n",
       "      <td>10004</td>\n",
       "      <td>0</td>\n",
       "      <td>38</td>\n",
       "      <td>84,313</td>\n",
       "      <td>8</td>\n",
       "      <td>enrolled</td>\n",
       "      <td>06-04-2015</td>\n",
       "      <td>1</td>\n",
       "      <td>Single</td>\n",
       "    </tr>\n",
       "    <tr>\n",
       "      <th>4</th>\n",
       "      <td>10005</td>\n",
       "      <td>0</td>\n",
       "      <td>30</td>\n",
       "      <td>51,498</td>\n",
       "      <td>3</td>\n",
       "      <td>notenrolled</td>\n",
       "      <td>NaN</td>\n",
       "      <td>1</td>\n",
       "      <td>Single</td>\n",
       "    </tr>\n",
       "  </tbody>\n",
       "</table>\n",
       "</div>"
      ],
      "text/plain": [
       "   CUSTOMERID  GENDER  AGE   INCOME  EXPERIENCE SCORE LOYALTY GROUP  \\\n",
       "0       10001       0   64  133,498                 5      enrolled   \n",
       "1       10002       0   42   94,475                 9   notenrolled   \n",
       "2       10003       0   40   88,610                 9      enrolled   \n",
       "3       10004       0   38   84,313                 8      enrolled   \n",
       "4       10005       0   30   51,498                 3   notenrolled   \n",
       "\n",
       "  ENROLLMENT DATE  HOUSEHOLD SIZE MARITAL STATUS  \n",
       "0      06-03-2013               4         Single  \n",
       "1             NaN               6        Married  \n",
       "2      02-09-2010               5        Married  \n",
       "3      06-04-2015               1         Single  \n",
       "4             NaN               1         Single  "
      ]
     },
     "execution_count": 26,
     "metadata": {},
     "output_type": "execute_result"
    }
   ],
   "source": [
    "# remove dollar sign in INCOME row\n",
    "customer_data['INCOME']=customer_data['INCOME'].map(lambda x : x.replace('$',''))\n",
    "customer_data.head()"
   ]
  },
  {
   "cell_type": "code",
   "execution_count": 28,
   "metadata": {},
   "outputs": [
    {
     "data": {
      "text/html": [
       "<div>\n",
       "<style scoped>\n",
       "    .dataframe tbody tr th:only-of-type {\n",
       "        vertical-align: middle;\n",
       "    }\n",
       "\n",
       "    .dataframe tbody tr th {\n",
       "        vertical-align: top;\n",
       "    }\n",
       "\n",
       "    .dataframe thead th {\n",
       "        text-align: right;\n",
       "    }\n",
       "</style>\n",
       "<table border=\"1\" class=\"dataframe\">\n",
       "  <thead>\n",
       "    <tr style=\"text-align: right;\">\n",
       "      <th></th>\n",
       "      <th>CUSTOMERID</th>\n",
       "      <th>GENDER</th>\n",
       "      <th>AGE</th>\n",
       "      <th>INCOME</th>\n",
       "      <th>EXPERIENCE SCORE</th>\n",
       "      <th>LOYALTY GROUP</th>\n",
       "      <th>ENROLLMENT DATE</th>\n",
       "      <th>HOUSEHOLD SIZE</th>\n",
       "      <th>MARITAL STATUS</th>\n",
       "    </tr>\n",
       "  </thead>\n",
       "  <tbody>\n",
       "    <tr>\n",
       "      <th>0</th>\n",
       "      <td>10001</td>\n",
       "      <td>0</td>\n",
       "      <td>64</td>\n",
       "      <td>133498</td>\n",
       "      <td>5</td>\n",
       "      <td>enrolled</td>\n",
       "      <td>06-03-2013</td>\n",
       "      <td>4</td>\n",
       "      <td>Single</td>\n",
       "    </tr>\n",
       "    <tr>\n",
       "      <th>1</th>\n",
       "      <td>10002</td>\n",
       "      <td>0</td>\n",
       "      <td>42</td>\n",
       "      <td>94475</td>\n",
       "      <td>9</td>\n",
       "      <td>notenrolled</td>\n",
       "      <td>NaN</td>\n",
       "      <td>6</td>\n",
       "      <td>Married</td>\n",
       "    </tr>\n",
       "  </tbody>\n",
       "</table>\n",
       "</div>"
      ],
      "text/plain": [
       "   CUSTOMERID  GENDER  AGE  INCOME  EXPERIENCE SCORE LOYALTY GROUP  \\\n",
       "0       10001       0   64  133498                 5      enrolled   \n",
       "1       10002       0   42   94475                 9   notenrolled   \n",
       "\n",
       "  ENROLLMENT DATE  HOUSEHOLD SIZE MARITAL STATUS  \n",
       "0      06-03-2013               4         Single  \n",
       "1             NaN               6        Married  "
      ]
     },
     "execution_count": 28,
     "metadata": {},
     "output_type": "execute_result"
    }
   ],
   "source": [
    "# remove comma sign in INCOME row\n",
    "customer_data['INCOME']=customer_data['INCOME'].map(lambda x : int(x.replace(',','')))\n",
    "customer_data.head(2)"
   ]
  },
  {
   "cell_type": "code",
   "execution_count": 29,
   "metadata": {},
   "outputs": [
    {
     "data": {
      "text/plain": [
       "CUSTOMERID           int64\n",
       "GENDER               int64\n",
       "AGE                  int64\n",
       "INCOME               int64\n",
       "EXPERIENCE SCORE     int64\n",
       "LOYALTY GROUP       object\n",
       "ENROLLMENT DATE     object\n",
       "HOUSEHOLD SIZE       int64\n",
       "MARITAL STATUS      object\n",
       "dtype: object"
      ]
     },
     "execution_count": 29,
     "metadata": {},
     "output_type": "execute_result"
    }
   ],
   "source": [
    "customer_data.dtypes"
   ]
  },
  {
   "cell_type": "code",
   "execution_count": 30,
   "metadata": {},
   "outputs": [
    {
     "data": {
      "text/plain": [
       "CUSTOMER NUM            int64\n",
       "PRODUCT NUM             int64\n",
       "QUANTITY PURCHASED      int64\n",
       "DISCOUNT TAKEN        float64\n",
       "TRANSACTION DATE       object\n",
       "STOCKOUT                int64\n",
       "dtype: object"
      ]
     },
     "execution_count": 30,
     "metadata": {},
     "output_type": "execute_result"
    }
   ],
   "source": [
    "transaction_data.dtypes"
   ]
  },
  {
   "cell_type": "code",
   "execution_count": 31,
   "metadata": {},
   "outputs": [
    {
     "data": {
      "text/plain": [
       "count         500\n",
       "unique          4\n",
       "top       Married\n",
       "freq          267\n",
       "Name: MARITAL STATUS, dtype: object"
      ]
     },
     "execution_count": 31,
     "metadata": {},
     "output_type": "execute_result"
    }
   ],
   "source": [
    "customer_data['MARITAL STATUS'].describe()"
   ]
  },
  {
   "cell_type": "code",
   "execution_count": 35,
   "metadata": {},
   "outputs": [
    {
     "data": {
      "text/plain": [
       "count       500.000000\n",
       "mean      85792.482000\n",
       "std       37157.766304\n",
       "min       20256.000000\n",
       "25%       52429.000000\n",
       "50%       86846.500000\n",
       "75%      118381.000000\n",
       "max      149999.000000\n",
       "Name: INCOME, dtype: float64"
      ]
     },
     "execution_count": 35,
     "metadata": {},
     "output_type": "execute_result"
    }
   ],
   "source": [
    "customer_data['INCOME'].describe()"
   ]
  },
  {
   "cell_type": "code",
   "execution_count": 36,
   "metadata": {},
   "outputs": [
    {
     "data": {
      "text/plain": [
       "array(['Single', 'Married', 'Divorced', 'Widow/Widower'], dtype=object)"
      ]
     },
     "execution_count": 36,
     "metadata": {},
     "output_type": "execute_result"
    }
   ],
   "source": [
    "customer_data['MARITAL STATUS'].unique()"
   ]
  },
  {
   "cell_type": "code",
   "execution_count": 38,
   "metadata": {},
   "outputs": [],
   "source": [
    "# change enrollment date field to datetime\n",
    "from datetime import datetime\n",
    "customer_data['ENROLLMENT DATE']=\\\n",
    "customer_data['ENROLLMENT DATE'][customer_data['ENROLLMENT DATE'].notnull()].map(lambda x : datetime.strptime(x, '%d-%m-%Y'))"
   ]
  },
  {
   "cell_type": "code",
   "execution_count": 39,
   "metadata": {},
   "outputs": [
    {
     "data": {
      "text/plain": [
       "CUSTOMERID                   int64\n",
       "GENDER                       int64\n",
       "AGE                          int64\n",
       "INCOME                       int64\n",
       "EXPERIENCE SCORE             int64\n",
       "LOYALTY GROUP               object\n",
       "ENROLLMENT DATE     datetime64[ns]\n",
       "HOUSEHOLD SIZE               int64\n",
       "MARITAL STATUS              object\n",
       "dtype: object"
      ]
     },
     "execution_count": 39,
     "metadata": {},
     "output_type": "execute_result"
    }
   ],
   "source": [
    "customer_data.dtypes"
   ]
  },
  {
   "cell_type": "code",
   "execution_count": 41,
   "metadata": {},
   "outputs": [
    {
     "name": "stdout",
     "output_type": "stream",
     "text": [
      "null values for transactions?  False\n",
      "null values for products?  False\n",
      "null values for customers?  True\n"
     ]
    }
   ],
   "source": [
    "# data quality\n",
    "print('null values for transactions? ', transaction_data.isnull().values.any())\n",
    "print('null values for products? ', product_data.isnull().values.any())\n",
    "print('null values for customers? ', customer_data.isnull().values.any())"
   ]
  },
  {
   "cell_type": "code",
   "execution_count": 42,
   "metadata": {},
   "outputs": [
    {
     "data": {
      "text/plain": [
       "['ENROLLMENT DATE']"
      ]
     },
     "execution_count": 42,
     "metadata": {},
     "output_type": "execute_result"
    }
   ],
   "source": [
    "customer_data.columns[customer_data.isna().any()].tolist()"
   ]
  },
  {
   "cell_type": "code",
   "execution_count": 43,
   "metadata": {},
   "outputs": [],
   "source": [
    "import matplotlib.pyplot as plt"
   ]
  },
  {
   "cell_type": "code",
   "execution_count": 44,
   "metadata": {},
   "outputs": [
    {
     "data": {
      "image/png": "[encoded data removed]",
      "text/plain": [
       "<Figure size 432x288 with 1 Axes>"
      ]
     },
     "metadata": {
      "needs_background": "light"
     },
     "output_type": "display_data"
    }
   ],
   "source": [
    "customer_data['MARITAL STATUS'].value_counts().plot(kind='bar')\n",
    "plt.xlabel('Marital Status')\n",
    "plt.ylabel('Frequency Distribution')\n",
    "plt.show()"
   ]
  },
  {
   "cell_type": "code",
   "execution_count": 45,
   "metadata": {},
   "outputs": [
    {
     "data": {
      "image/png": "[encoded data removed]",
      "text/plain": [
       "<Figure size 432x288 with 1 Axes>"
      ]
     },
     "metadata": {
      "needs_background": "light"
     },
     "output_type": "display_data"
    }
   ],
   "source": [
    "customer_data['AGE'].hist(bins=10)\n",
    "plt.show()"
   ]
  },
  {
   "cell_type": "code",
   "execution_count": 46,
   "metadata": {},
   "outputs": [
    {
     "data": {
      "image/png": "[encoded data removed]",
      "text/plain": [
       "<Figure size 576x576 with 1 Axes>"
      ]
     },
     "metadata": {
      "needs_background": "light"
     },
     "output_type": "display_data"
    }
   ],
   "source": [
    "plt.figure(figsize=(8,8))\n",
    "plt.boxplot(customer_data.AGE,0,'rs',1)\n",
    "plt.grid(linestyle='-', linewidth=1)\n",
    "plt.show()"
   ]
  },
  {
   "cell_type": "code",
   "execution_count": 47,
   "metadata": {},
   "outputs": [
    {
     "data": {
      "text/plain": [
       "count    500.000000\n",
       "mean      42.316000\n",
       "std       17.567509\n",
       "min       18.000000\n",
       "25%       30.000000\n",
       "50%       39.000000\n",
       "75%       50.250000\n",
       "max       90.000000\n",
       "Name: AGE, dtype: float64"
      ]
     },
     "execution_count": 47,
     "metadata": {},
     "output_type": "execute_result"
    }
   ],
   "source": [
    "customer_data['AGE'].describe()"
   ]
  },
  {
   "cell_type": "code",
   "execution_count": 49,
   "metadata": {},
   "outputs": [],
   "source": [
    "# constructing new features and generating insights\n",
    "trans_products=transaction_data.merge(product_data,how='inner', left_on='PRODUCT NUM', right_on='PRODUCT CODE')"
   ]
  },
  {
   "cell_type": "code",
   "execution_count": 50,
   "metadata": {},
   "outputs": [
    {
     "data": {
      "text/html": [
       "<div>\n",
       "<style scoped>\n",
       "    .dataframe tbody tr th:only-of-type {\n",
       "        vertical-align: middle;\n",
       "    }\n",
       "\n",
       "    .dataframe tbody tr th {\n",
       "        vertical-align: top;\n",
       "    }\n",
       "\n",
       "    .dataframe thead th {\n",
       "        text-align: right;\n",
       "    }\n",
       "</style>\n",
       "<table border=\"1\" class=\"dataframe\">\n",
       "  <thead>\n",
       "    <tr style=\"text-align: right;\">\n",
       "      <th></th>\n",
       "      <th>CUSTOMER NUM</th>\n",
       "      <th>PRODUCT NUM</th>\n",
       "      <th>QUANTITY PURCHASED</th>\n",
       "      <th>DISCOUNT TAKEN</th>\n",
       "      <th>TRANSACTION DATE</th>\n",
       "      <th>STOCKOUT</th>\n",
       "    </tr>\n",
       "  </thead>\n",
       "  <tbody>\n",
       "    <tr>\n",
       "      <th>0</th>\n",
       "      <td>10114</td>\n",
       "      <td>30011</td>\n",
       "      <td>4</td>\n",
       "      <td>0.0</td>\n",
       "      <td>1/2/2015</td>\n",
       "      <td>0</td>\n",
       "    </tr>\n",
       "    <tr>\n",
       "      <th>1</th>\n",
       "      <td>10217</td>\n",
       "      <td>30016</td>\n",
       "      <td>3</td>\n",
       "      <td>0.0</td>\n",
       "      <td>1/2/2015</td>\n",
       "      <td>0</td>\n",
       "    </tr>\n",
       "    <tr>\n",
       "      <th>2</th>\n",
       "      <td>10224</td>\n",
       "      <td>30013</td>\n",
       "      <td>4</td>\n",
       "      <td>0.0</td>\n",
       "      <td>1/2/2015</td>\n",
       "      <td>0</td>\n",
       "    </tr>\n",
       "    <tr>\n",
       "      <th>3</th>\n",
       "      <td>10103</td>\n",
       "      <td>30012</td>\n",
       "      <td>3</td>\n",
       "      <td>0.2</td>\n",
       "      <td>1/2/2015</td>\n",
       "      <td>0</td>\n",
       "    </tr>\n",
       "    <tr>\n",
       "      <th>4</th>\n",
       "      <td>10037</td>\n",
       "      <td>30010</td>\n",
       "      <td>8</td>\n",
       "      <td>0.0</td>\n",
       "      <td>1/2/2015</td>\n",
       "      <td>0</td>\n",
       "    </tr>\n",
       "  </tbody>\n",
       "</table>\n",
       "</div>"
      ],
      "text/plain": [
       "   CUSTOMER NUM  PRODUCT NUM  QUANTITY PURCHASED  DISCOUNT TAKEN  \\\n",
       "0         10114        30011                   4             0.0   \n",
       "1         10217        30016                   3             0.0   \n",
       "2         10224        30013                   4             0.0   \n",
       "3         10103        30012                   3             0.2   \n",
       "4         10037        30010                   8             0.0   \n",
       "\n",
       "  TRANSACTION DATE  STOCKOUT  \n",
       "0         1/2/2015         0  \n",
       "1         1/2/2015         0  \n",
       "2         1/2/2015         0  \n",
       "3         1/2/2015         0  \n",
       "4         1/2/2015         0  "
      ]
     },
     "execution_count": 50,
     "metadata": {},
     "output_type": "execute_result"
    }
   ],
   "source": [
    "transaction_data.head()"
   ]
  },
  {
   "cell_type": "code",
   "execution_count": 51,
   "metadata": {},
   "outputs": [
    {
     "data": {
      "text/html": [
       "<div>\n",
       "<style scoped>\n",
       "    .dataframe tbody tr th:only-of-type {\n",
       "        vertical-align: middle;\n",
       "    }\n",
       "\n",
       "    .dataframe tbody tr th {\n",
       "        vertical-align: top;\n",
       "    }\n",
       "\n",
       "    .dataframe thead th {\n",
       "        text-align: right;\n",
       "    }\n",
       "</style>\n",
       "<table border=\"1\" class=\"dataframe\">\n",
       "  <thead>\n",
       "    <tr style=\"text-align: right;\">\n",
       "      <th></th>\n",
       "      <th>CUSTOMER NUM</th>\n",
       "      <th>PRODUCT NUM</th>\n",
       "      <th>QUANTITY PURCHASED</th>\n",
       "      <th>DISCOUNT TAKEN</th>\n",
       "      <th>TRANSACTION DATE</th>\n",
       "      <th>STOCKOUT</th>\n",
       "      <th>PRODUCT CODE</th>\n",
       "      <th>PRODUCT CATEGORY</th>\n",
       "      <th>UNIT LIST PRICE</th>\n",
       "    </tr>\n",
       "  </thead>\n",
       "  <tbody>\n",
       "    <tr>\n",
       "      <th>0</th>\n",
       "      <td>10114</td>\n",
       "      <td>30011</td>\n",
       "      <td>4</td>\n",
       "      <td>0.0</td>\n",
       "      <td>1/2/2015</td>\n",
       "      <td>0</td>\n",
       "      <td>30011</td>\n",
       "      <td>APPAREL</td>\n",
       "      <td>$25.46</td>\n",
       "    </tr>\n",
       "    <tr>\n",
       "      <th>1</th>\n",
       "      <td>10086</td>\n",
       "      <td>30011</td>\n",
       "      <td>6</td>\n",
       "      <td>0.0</td>\n",
       "      <td>1/2/2015</td>\n",
       "      <td>0</td>\n",
       "      <td>30011</td>\n",
       "      <td>APPAREL</td>\n",
       "      <td>$25.46</td>\n",
       "    </tr>\n",
       "    <tr>\n",
       "      <th>2</th>\n",
       "      <td>10174</td>\n",
       "      <td>30011</td>\n",
       "      <td>10</td>\n",
       "      <td>0.0</td>\n",
       "      <td>1/2/2015</td>\n",
       "      <td>0</td>\n",
       "      <td>30011</td>\n",
       "      <td>APPAREL</td>\n",
       "      <td>$25.46</td>\n",
       "    </tr>\n",
       "    <tr>\n",
       "      <th>3</th>\n",
       "      <td>10401</td>\n",
       "      <td>30011</td>\n",
       "      <td>12</td>\n",
       "      <td>0.0</td>\n",
       "      <td>1/2/2015</td>\n",
       "      <td>0</td>\n",
       "      <td>30011</td>\n",
       "      <td>APPAREL</td>\n",
       "      <td>$25.46</td>\n",
       "    </tr>\n",
       "    <tr>\n",
       "      <th>4</th>\n",
       "      <td>10216</td>\n",
       "      <td>30011</td>\n",
       "      <td>12</td>\n",
       "      <td>0.1</td>\n",
       "      <td>1/2/2015</td>\n",
       "      <td>0</td>\n",
       "      <td>30011</td>\n",
       "      <td>APPAREL</td>\n",
       "      <td>$25.46</td>\n",
       "    </tr>\n",
       "  </tbody>\n",
       "</table>\n",
       "</div>"
      ],
      "text/plain": [
       "   CUSTOMER NUM  PRODUCT NUM  QUANTITY PURCHASED  DISCOUNT TAKEN  \\\n",
       "0         10114        30011                   4             0.0   \n",
       "1         10086        30011                   6             0.0   \n",
       "2         10174        30011                  10             0.0   \n",
       "3         10401        30011                  12             0.0   \n",
       "4         10216        30011                  12             0.1   \n",
       "\n",
       "  TRANSACTION DATE  STOCKOUT  PRODUCT CODE PRODUCT CATEGORY UNIT LIST PRICE  \n",
       "0         1/2/2015         0         30011          APPAREL         $25.46   \n",
       "1         1/2/2015         0         30011          APPAREL         $25.46   \n",
       "2         1/2/2015         0         30011          APPAREL         $25.46   \n",
       "3         1/2/2015         0         30011          APPAREL         $25.46   \n",
       "4         1/2/2015         0         30011          APPAREL         $25.46   "
      ]
     },
     "execution_count": 51,
     "metadata": {},
     "output_type": "execute_result"
    }
   ],
   "source": [
    "trans_products.head()"
   ]
  },
  {
   "cell_type": "code",
   "execution_count": 52,
   "metadata": {},
   "outputs": [
    {
     "data": {
      "text/html": [
       "<div>\n",
       "<style scoped>\n",
       "    .dataframe tbody tr th:only-of-type {\n",
       "        vertical-align: middle;\n",
       "    }\n",
       "\n",
       "    .dataframe tbody tr th {\n",
       "        vertical-align: top;\n",
       "    }\n",
       "\n",
       "    .dataframe thead th {\n",
       "        text-align: right;\n",
       "    }\n",
       "</style>\n",
       "<table border=\"1\" class=\"dataframe\">\n",
       "  <thead>\n",
       "    <tr style=\"text-align: right;\">\n",
       "      <th></th>\n",
       "      <th>PRODUCT CODE</th>\n",
       "      <th>PRODUCT CATEGORY</th>\n",
       "      <th>UNIT LIST PRICE</th>\n",
       "    </tr>\n",
       "  </thead>\n",
       "  <tbody>\n",
       "    <tr>\n",
       "      <th>0</th>\n",
       "      <td>30001</td>\n",
       "      <td>HEALTH &amp; BEAUTY</td>\n",
       "      <td>$7.45</td>\n",
       "    </tr>\n",
       "    <tr>\n",
       "      <th>1</th>\n",
       "      <td>30002</td>\n",
       "      <td>HEALTH &amp; BEAUTY</td>\n",
       "      <td>$5.35</td>\n",
       "    </tr>\n",
       "    <tr>\n",
       "      <th>2</th>\n",
       "      <td>30003</td>\n",
       "      <td>HEALTH &amp; BEAUTY</td>\n",
       "      <td>$5.49</td>\n",
       "    </tr>\n",
       "    <tr>\n",
       "      <th>3</th>\n",
       "      <td>30004</td>\n",
       "      <td>HEALTH &amp; BEAUTY</td>\n",
       "      <td>$6.46</td>\n",
       "    </tr>\n",
       "    <tr>\n",
       "      <th>4</th>\n",
       "      <td>30005</td>\n",
       "      <td>HEALTH &amp; BEAUTY</td>\n",
       "      <td>$7.33</td>\n",
       "    </tr>\n",
       "  </tbody>\n",
       "</table>\n",
       "</div>"
      ],
      "text/plain": [
       "   PRODUCT CODE PRODUCT CATEGORY UNIT LIST PRICE\n",
       "0         30001  HEALTH & BEAUTY          $7.45 \n",
       "1         30002  HEALTH & BEAUTY          $5.35 \n",
       "2         30003  HEALTH & BEAUTY          $5.49 \n",
       "3         30004  HEALTH & BEAUTY          $6.46 \n",
       "4         30005  HEALTH & BEAUTY          $7.33 "
      ]
     },
     "execution_count": 52,
     "metadata": {},
     "output_type": "execute_result"
    }
   ],
   "source": [
    "product_data.head()"
   ]
  },
  {
   "cell_type": "code",
   "execution_count": 53,
   "metadata": {},
   "outputs": [],
   "source": [
    "trans_products['UNIT LIST PRICE']=trans_products['UNIT LIST PRICE'].map(lambda x : float(x.replace('$','')))"
   ]
  },
  {
   "cell_type": "code",
   "execution_count": 54,
   "metadata": {},
   "outputs": [
    {
     "data": {
      "text/plain": [
       "CUSTOMER NUM            int64\n",
       "PRODUCT NUM             int64\n",
       "QUANTITY PURCHASED      int64\n",
       "DISCOUNT TAKEN        float64\n",
       "TRANSACTION DATE       object\n",
       "STOCKOUT                int64\n",
       "PRODUCT CODE            int64\n",
       "PRODUCT CATEGORY       object\n",
       "UNIT LIST PRICE       float64\n",
       "dtype: object"
      ]
     },
     "execution_count": 54,
     "metadata": {},
     "output_type": "execute_result"
    }
   ],
   "source": [
    "trans_products.dtypes"
   ]
  },
  {
   "cell_type": "code",
   "execution_count": 55,
   "metadata": {},
   "outputs": [],
   "source": [
    "trans_products['TOTAL PRICE']=trans_products['QUANTITY PURCHASED']*trans_products['UNIT LIST PRICE']*(1-trans_products['DISCOUNT TAKEN'])"
   ]
  },
  {
   "cell_type": "code",
   "execution_count": 56,
   "metadata": {},
   "outputs": [
    {
     "data": {
      "text/html": [
       "<div>\n",
       "<style scoped>\n",
       "    .dataframe tbody tr th:only-of-type {\n",
       "        vertical-align: middle;\n",
       "    }\n",
       "\n",
       "    .dataframe tbody tr th {\n",
       "        vertical-align: top;\n",
       "    }\n",
       "\n",
       "    .dataframe thead th {\n",
       "        text-align: right;\n",
       "    }\n",
       "</style>\n",
       "<table border=\"1\" class=\"dataframe\">\n",
       "  <thead>\n",
       "    <tr style=\"text-align: right;\">\n",
       "      <th></th>\n",
       "      <th>CUSTOMER NUM</th>\n",
       "      <th>PRODUCT NUM</th>\n",
       "      <th>QUANTITY PURCHASED</th>\n",
       "      <th>DISCOUNT TAKEN</th>\n",
       "      <th>TRANSACTION DATE</th>\n",
       "      <th>STOCKOUT</th>\n",
       "      <th>PRODUCT CODE</th>\n",
       "      <th>PRODUCT CATEGORY</th>\n",
       "      <th>UNIT LIST PRICE</th>\n",
       "      <th>TOTAL PRICE</th>\n",
       "    </tr>\n",
       "  </thead>\n",
       "  <tbody>\n",
       "    <tr>\n",
       "      <th>0</th>\n",
       "      <td>10114</td>\n",
       "      <td>30011</td>\n",
       "      <td>4</td>\n",
       "      <td>0.0</td>\n",
       "      <td>1/2/2015</td>\n",
       "      <td>0</td>\n",
       "      <td>30011</td>\n",
       "      <td>APPAREL</td>\n",
       "      <td>25.46</td>\n",
       "      <td>101.840</td>\n",
       "    </tr>\n",
       "    <tr>\n",
       "      <th>1</th>\n",
       "      <td>10086</td>\n",
       "      <td>30011</td>\n",
       "      <td>6</td>\n",
       "      <td>0.0</td>\n",
       "      <td>1/2/2015</td>\n",
       "      <td>0</td>\n",
       "      <td>30011</td>\n",
       "      <td>APPAREL</td>\n",
       "      <td>25.46</td>\n",
       "      <td>152.760</td>\n",
       "    </tr>\n",
       "    <tr>\n",
       "      <th>2</th>\n",
       "      <td>10174</td>\n",
       "      <td>30011</td>\n",
       "      <td>10</td>\n",
       "      <td>0.0</td>\n",
       "      <td>1/2/2015</td>\n",
       "      <td>0</td>\n",
       "      <td>30011</td>\n",
       "      <td>APPAREL</td>\n",
       "      <td>25.46</td>\n",
       "      <td>254.600</td>\n",
       "    </tr>\n",
       "    <tr>\n",
       "      <th>3</th>\n",
       "      <td>10401</td>\n",
       "      <td>30011</td>\n",
       "      <td>12</td>\n",
       "      <td>0.0</td>\n",
       "      <td>1/2/2015</td>\n",
       "      <td>0</td>\n",
       "      <td>30011</td>\n",
       "      <td>APPAREL</td>\n",
       "      <td>25.46</td>\n",
       "      <td>305.520</td>\n",
       "    </tr>\n",
       "    <tr>\n",
       "      <th>4</th>\n",
       "      <td>10216</td>\n",
       "      <td>30011</td>\n",
       "      <td>12</td>\n",
       "      <td>0.1</td>\n",
       "      <td>1/2/2015</td>\n",
       "      <td>0</td>\n",
       "      <td>30011</td>\n",
       "      <td>APPAREL</td>\n",
       "      <td>25.46</td>\n",
       "      <td>274.968</td>\n",
       "    </tr>\n",
       "  </tbody>\n",
       "</table>\n",
       "</div>"
      ],
      "text/plain": [
       "   CUSTOMER NUM  PRODUCT NUM  QUANTITY PURCHASED  DISCOUNT TAKEN  \\\n",
       "0         10114        30011                   4             0.0   \n",
       "1         10086        30011                   6             0.0   \n",
       "2         10174        30011                  10             0.0   \n",
       "3         10401        30011                  12             0.0   \n",
       "4         10216        30011                  12             0.1   \n",
       "\n",
       "  TRANSACTION DATE  STOCKOUT  PRODUCT CODE PRODUCT CATEGORY  UNIT LIST PRICE  \\\n",
       "0         1/2/2015         0         30011          APPAREL            25.46   \n",
       "1         1/2/2015         0         30011          APPAREL            25.46   \n",
       "2         1/2/2015         0         30011          APPAREL            25.46   \n",
       "3         1/2/2015         0         30011          APPAREL            25.46   \n",
       "4         1/2/2015         0         30011          APPAREL            25.46   \n",
       "\n",
       "   TOTAL PRICE  \n",
       "0      101.840  \n",
       "1      152.760  \n",
       "2      254.600  \n",
       "3      305.520  \n",
       "4      274.968  "
      ]
     },
     "execution_count": 56,
     "metadata": {},
     "output_type": "execute_result"
    }
   ],
   "source": [
    "trans_products.head()"
   ]
  },
  {
   "cell_type": "code",
   "execution_count": 57,
   "metadata": {},
   "outputs": [],
   "source": [
    "income_by_product=trans_products.groupby('PRODUCT CATEGORY').agg({'TOTAL PRICE':'sum'}).sort_values('TOTAL PRICE',ascending=False)"
   ]
  },
  {
   "cell_type": "code",
   "execution_count": 58,
   "metadata": {},
   "outputs": [
    {
     "data": {
      "text/html": [
       "<div>\n",
       "<style scoped>\n",
       "    .dataframe tbody tr th:only-of-type {\n",
       "        vertical-align: middle;\n",
       "    }\n",
       "\n",
       "    .dataframe tbody tr th {\n",
       "        vertical-align: top;\n",
       "    }\n",
       "\n",
       "    .dataframe thead th {\n",
       "        text-align: right;\n",
       "    }\n",
       "</style>\n",
       "<table border=\"1\" class=\"dataframe\">\n",
       "  <thead>\n",
       "    <tr style=\"text-align: right;\">\n",
       "      <th></th>\n",
       "      <th>TOTAL PRICE</th>\n",
       "    </tr>\n",
       "    <tr>\n",
       "      <th>PRODUCT CATEGORY</th>\n",
       "      <th></th>\n",
       "    </tr>\n",
       "  </thead>\n",
       "  <tbody>\n",
       "    <tr>\n",
       "      <th>ELECTRONICS</th>\n",
       "      <td>1607192.422</td>\n",
       "    </tr>\n",
       "    <tr>\n",
       "      <th>APPAREL</th>\n",
       "      <td>936757.914</td>\n",
       "    </tr>\n",
       "    <tr>\n",
       "      <th>FOOD</th>\n",
       "      <td>96044.610</td>\n",
       "    </tr>\n",
       "    <tr>\n",
       "      <th>HEALTH &amp; BEAUTY</th>\n",
       "      <td>54776.312</td>\n",
       "    </tr>\n",
       "  </tbody>\n",
       "</table>\n",
       "</div>"
      ],
      "text/plain": [
       "                  TOTAL PRICE\n",
       "PRODUCT CATEGORY             \n",
       "ELECTRONICS       1607192.422\n",
       "APPAREL            936757.914\n",
       "FOOD                96044.610\n",
       "HEALTH & BEAUTY     54776.312"
      ]
     },
     "execution_count": 58,
     "metadata": {},
     "output_type": "execute_result"
    }
   ],
   "source": [
    "income_by_product"
   ]
  },
  {
   "cell_type": "code",
   "execution_count": 59,
   "metadata": {},
   "outputs": [],
   "source": [
    "revenue_by_product=income_by_product.rename(columns={'TOTAL PRICE':'REVENUE PER PRODUCT'})"
   ]
  },
  {
   "cell_type": "code",
   "execution_count": 63,
   "metadata": {},
   "outputs": [
    {
     "data": {
      "text/plain": [
       "<matplotlib.axes._subplots.AxesSubplot at 0x11ebb2208>"
      ]
     },
     "execution_count": 63,
     "metadata": {},
     "output_type": "execute_result"
    },
    {
     "data": {
      "image/png": "[encoded data removed]",
      "text/plain": [
       "<Figure size 432x288 with 1 Axes>"
      ]
     },
     "metadata": {},
     "output_type": "display_data"
    }
   ],
   "source": [
    "revenue_by_product['REVENUE PER PRODUCT'].plot(kind='pie',autopct='%1.1f%%',legend=True)"
   ]
  },
  {
   "cell_type": "code",
   "execution_count": 66,
   "metadata": {},
   "outputs": [],
   "source": [
    "# calculate for each customer, total spend, total spend per category, recent transaction date\n",
    "customer_prod_category=trans_products.groupby(['CUSTOMER NUM','PRODUCT CATEGORY']).agg({'TOTAL PRICE':'sum'})"
   ]
  },
  {
   "cell_type": "code",
   "execution_count": 67,
   "metadata": {},
   "outputs": [
    {
     "data": {
      "text/html": [
       "<div>\n",
       "<style scoped>\n",
       "    .dataframe tbody tr th:only-of-type {\n",
       "        vertical-align: middle;\n",
       "    }\n",
       "\n",
       "    .dataframe tbody tr th {\n",
       "        vertical-align: top;\n",
       "    }\n",
       "\n",
       "    .dataframe thead th {\n",
       "        text-align: right;\n",
       "    }\n",
       "</style>\n",
       "<table border=\"1\" class=\"dataframe\">\n",
       "  <thead>\n",
       "    <tr style=\"text-align: right;\">\n",
       "      <th></th>\n",
       "      <th></th>\n",
       "      <th>TOTAL PRICE</th>\n",
       "    </tr>\n",
       "    <tr>\n",
       "      <th>CUSTOMER NUM</th>\n",
       "      <th>PRODUCT CATEGORY</th>\n",
       "      <th></th>\n",
       "    </tr>\n",
       "  </thead>\n",
       "  <tbody>\n",
       "    <tr>\n",
       "      <th rowspan=\"4\" valign=\"top\">10001</th>\n",
       "      <th>APPAREL</th>\n",
       "      <td>4022.430</td>\n",
       "    </tr>\n",
       "    <tr>\n",
       "      <th>ELECTRONICS</th>\n",
       "      <td>1601.315</td>\n",
       "    </tr>\n",
       "    <tr>\n",
       "      <th>FOOD</th>\n",
       "      <td>68.688</td>\n",
       "    </tr>\n",
       "    <tr>\n",
       "      <th>HEALTH &amp; BEAUTY</th>\n",
       "      <td>1134.337</td>\n",
       "    </tr>\n",
       "    <tr>\n",
       "      <th rowspan=\"3\" valign=\"top\">10002</th>\n",
       "      <th>APPAREL</th>\n",
       "      <td>2312.509</td>\n",
       "    </tr>\n",
       "    <tr>\n",
       "      <th>ELECTRONICS</th>\n",
       "      <td>2473.163</td>\n",
       "    </tr>\n",
       "    <tr>\n",
       "      <th>FOOD</th>\n",
       "      <td>276.779</td>\n",
       "    </tr>\n",
       "    <tr>\n",
       "      <th rowspan=\"3\" valign=\"top\">10003</th>\n",
       "      <th>APPAREL</th>\n",
       "      <td>2887.382</td>\n",
       "    </tr>\n",
       "    <tr>\n",
       "      <th>ELECTRONICS</th>\n",
       "      <td>5414.418</td>\n",
       "    </tr>\n",
       "    <tr>\n",
       "      <th>FOOD</th>\n",
       "      <td>260.640</td>\n",
       "    </tr>\n",
       "    <tr>\n",
       "      <th rowspan=\"3\" valign=\"top\">10004</th>\n",
       "      <th>APPAREL</th>\n",
       "      <td>3637.213</td>\n",
       "    </tr>\n",
       "    <tr>\n",
       "      <th>ELECTRONICS</th>\n",
       "      <td>1840.211</td>\n",
       "    </tr>\n",
       "    <tr>\n",
       "      <th>FOOD</th>\n",
       "      <td>45.270</td>\n",
       "    </tr>\n",
       "    <tr>\n",
       "      <th>10005</th>\n",
       "      <th>APPAREL</th>\n",
       "      <td>213.512</td>\n",
       "    </tr>\n",
       "    <tr>\n",
       "      <th rowspan=\"4\" valign=\"top\">10006</th>\n",
       "      <th>APPAREL</th>\n",
       "      <td>1448.330</td>\n",
       "    </tr>\n",
       "    <tr>\n",
       "      <th>ELECTRONICS</th>\n",
       "      <td>2785.763</td>\n",
       "    </tr>\n",
       "    <tr>\n",
       "      <th>FOOD</th>\n",
       "      <td>720.379</td>\n",
       "    </tr>\n",
       "    <tr>\n",
       "      <th>HEALTH &amp; BEAUTY</th>\n",
       "      <td>280.375</td>\n",
       "    </tr>\n",
       "    <tr>\n",
       "      <th rowspan=\"3\" valign=\"top\">10007</th>\n",
       "      <th>APPAREL</th>\n",
       "      <td>1252.726</td>\n",
       "    </tr>\n",
       "    <tr>\n",
       "      <th>ELECTRONICS</th>\n",
       "      <td>3918.466</td>\n",
       "    </tr>\n",
       "    <tr>\n",
       "      <th>FOOD</th>\n",
       "      <td>53.424</td>\n",
       "    </tr>\n",
       "    <tr>\n",
       "      <th rowspan=\"3\" valign=\"top\">10008</th>\n",
       "      <th>APPAREL</th>\n",
       "      <td>3755.118</td>\n",
       "    </tr>\n",
       "    <tr>\n",
       "      <th>ELECTRONICS</th>\n",
       "      <td>4547.491</td>\n",
       "    </tr>\n",
       "    <tr>\n",
       "      <th>FOOD</th>\n",
       "      <td>109.392</td>\n",
       "    </tr>\n",
       "    <tr>\n",
       "      <th rowspan=\"3\" valign=\"top\">10009</th>\n",
       "      <th>APPAREL</th>\n",
       "      <td>2696.621</td>\n",
       "    </tr>\n",
       "    <tr>\n",
       "      <th>ELECTRONICS</th>\n",
       "      <td>6186.060</td>\n",
       "    </tr>\n",
       "    <tr>\n",
       "      <th>FOOD</th>\n",
       "      <td>233.895</td>\n",
       "    </tr>\n",
       "    <tr>\n",
       "      <th rowspan=\"3\" valign=\"top\">10010</th>\n",
       "      <th>APPAREL</th>\n",
       "      <td>2385.751</td>\n",
       "    </tr>\n",
       "    <tr>\n",
       "      <th>ELECTRONICS</th>\n",
       "      <td>4149.670</td>\n",
       "    </tr>\n",
       "    <tr>\n",
       "      <th>FOOD</th>\n",
       "      <td>84.726</td>\n",
       "    </tr>\n",
       "    <tr>\n",
       "      <th>...</th>\n",
       "      <th>...</th>\n",
       "      <td>...</td>\n",
       "    </tr>\n",
       "    <tr>\n",
       "      <th rowspan=\"4\" valign=\"top\">10491</th>\n",
       "      <th>APPAREL</th>\n",
       "      <td>3638.338</td>\n",
       "    </tr>\n",
       "    <tr>\n",
       "      <th>ELECTRONICS</th>\n",
       "      <td>2170.168</td>\n",
       "    </tr>\n",
       "    <tr>\n",
       "      <th>FOOD</th>\n",
       "      <td>130.436</td>\n",
       "    </tr>\n",
       "    <tr>\n",
       "      <th>HEALTH &amp; BEAUTY</th>\n",
       "      <td>236.054</td>\n",
       "    </tr>\n",
       "    <tr>\n",
       "      <th rowspan=\"2\" valign=\"top\">10492</th>\n",
       "      <th>APPAREL</th>\n",
       "      <td>2188.407</td>\n",
       "    </tr>\n",
       "    <tr>\n",
       "      <th>ELECTRONICS</th>\n",
       "      <td>2958.606</td>\n",
       "    </tr>\n",
       "    <tr>\n",
       "      <th rowspan=\"4\" valign=\"top\">10493</th>\n",
       "      <th>APPAREL</th>\n",
       "      <td>3342.895</td>\n",
       "    </tr>\n",
       "    <tr>\n",
       "      <th>ELECTRONICS</th>\n",
       "      <td>10795.411</td>\n",
       "    </tr>\n",
       "    <tr>\n",
       "      <th>FOOD</th>\n",
       "      <td>715.380</td>\n",
       "    </tr>\n",
       "    <tr>\n",
       "      <th>HEALTH &amp; BEAUTY</th>\n",
       "      <td>163.554</td>\n",
       "    </tr>\n",
       "    <tr>\n",
       "      <th rowspan=\"3\" valign=\"top\">10494</th>\n",
       "      <th>APPAREL</th>\n",
       "      <td>1301.420</td>\n",
       "    </tr>\n",
       "    <tr>\n",
       "      <th>ELECTRONICS</th>\n",
       "      <td>3724.486</td>\n",
       "    </tr>\n",
       "    <tr>\n",
       "      <th>FOOD</th>\n",
       "      <td>253.820</td>\n",
       "    </tr>\n",
       "    <tr>\n",
       "      <th>10495</th>\n",
       "      <th>APPAREL</th>\n",
       "      <td>205.170</td>\n",
       "    </tr>\n",
       "    <tr>\n",
       "      <th rowspan=\"4\" valign=\"top\">10496</th>\n",
       "      <th>APPAREL</th>\n",
       "      <td>4611.468</td>\n",
       "    </tr>\n",
       "    <tr>\n",
       "      <th>ELECTRONICS</th>\n",
       "      <td>3616.106</td>\n",
       "    </tr>\n",
       "    <tr>\n",
       "      <th>FOOD</th>\n",
       "      <td>186.110</td>\n",
       "    </tr>\n",
       "    <tr>\n",
       "      <th>HEALTH &amp; BEAUTY</th>\n",
       "      <td>87.780</td>\n",
       "    </tr>\n",
       "    <tr>\n",
       "      <th rowspan=\"4\" valign=\"top\">10497</th>\n",
       "      <th>APPAREL</th>\n",
       "      <td>3404.527</td>\n",
       "    </tr>\n",
       "    <tr>\n",
       "      <th>ELECTRONICS</th>\n",
       "      <td>5905.274</td>\n",
       "    </tr>\n",
       "    <tr>\n",
       "      <th>FOOD</th>\n",
       "      <td>420.912</td>\n",
       "    </tr>\n",
       "    <tr>\n",
       "      <th>HEALTH &amp; BEAUTY</th>\n",
       "      <td>172.945</td>\n",
       "    </tr>\n",
       "    <tr>\n",
       "      <th rowspan=\"4\" valign=\"top\">10498</th>\n",
       "      <th>APPAREL</th>\n",
       "      <td>1723.623</td>\n",
       "    </tr>\n",
       "    <tr>\n",
       "      <th>ELECTRONICS</th>\n",
       "      <td>3424.110</td>\n",
       "    </tr>\n",
       "    <tr>\n",
       "      <th>FOOD</th>\n",
       "      <td>783.588</td>\n",
       "    </tr>\n",
       "    <tr>\n",
       "      <th>HEALTH &amp; BEAUTY</th>\n",
       "      <td>320.145</td>\n",
       "    </tr>\n",
       "    <tr>\n",
       "      <th>10499</th>\n",
       "      <th>HEALTH &amp; BEAUTY</th>\n",
       "      <td>20.010</td>\n",
       "    </tr>\n",
       "    <tr>\n",
       "      <th rowspan=\"3\" valign=\"top\">10500</th>\n",
       "      <th>APPAREL</th>\n",
       "      <td>1511.748</td>\n",
       "    </tr>\n",
       "    <tr>\n",
       "      <th>ELECTRONICS</th>\n",
       "      <td>2632.269</td>\n",
       "    </tr>\n",
       "    <tr>\n",
       "      <th>FOOD</th>\n",
       "      <td>38.015</td>\n",
       "    </tr>\n",
       "  </tbody>\n",
       "</table>\n",
       "<p>1427 rows × 1 columns</p>\n",
       "</div>"
      ],
      "text/plain": [
       "                               TOTAL PRICE\n",
       "CUSTOMER NUM PRODUCT CATEGORY             \n",
       "10001        APPAREL              4022.430\n",
       "             ELECTRONICS          1601.315\n",
       "             FOOD                   68.688\n",
       "             HEALTH & BEAUTY      1134.337\n",
       "10002        APPAREL              2312.509\n",
       "             ELECTRONICS          2473.163\n",
       "             FOOD                  276.779\n",
       "10003        APPAREL              2887.382\n",
       "             ELECTRONICS          5414.418\n",
       "             FOOD                  260.640\n",
       "10004        APPAREL              3637.213\n",
       "             ELECTRONICS          1840.211\n",
       "             FOOD                   45.270\n",
       "10005        APPAREL               213.512\n",
       "10006        APPAREL              1448.330\n",
       "             ELECTRONICS          2785.763\n",
       "             FOOD                  720.379\n",
       "             HEALTH & BEAUTY       280.375\n",
       "10007        APPAREL              1252.726\n",
       "             ELECTRONICS          3918.466\n",
       "             FOOD                   53.424\n",
       "10008        APPAREL              3755.118\n",
       "             ELECTRONICS          4547.491\n",
       "             FOOD                  109.392\n",
       "10009        APPAREL              2696.621\n",
       "             ELECTRONICS          6186.060\n",
       "             FOOD                  233.895\n",
       "10010        APPAREL              2385.751\n",
       "             ELECTRONICS          4149.670\n",
       "             FOOD                   84.726\n",
       "...                                    ...\n",
       "10491        APPAREL              3638.338\n",
       "             ELECTRONICS          2170.168\n",
       "             FOOD                  130.436\n",
       "             HEALTH & BEAUTY       236.054\n",
       "10492        APPAREL              2188.407\n",
       "             ELECTRONICS          2958.606\n",
       "10493        APPAREL              3342.895\n",
       "             ELECTRONICS         10795.411\n",
       "             FOOD                  715.380\n",
       "             HEALTH & BEAUTY       163.554\n",
       "10494        APPAREL              1301.420\n",
       "             ELECTRONICS          3724.486\n",
       "             FOOD                  253.820\n",
       "10495        APPAREL               205.170\n",
       "10496        APPAREL              4611.468\n",
       "             ELECTRONICS          3616.106\n",
       "             FOOD                  186.110\n",
       "             HEALTH & BEAUTY        87.780\n",
       "10497        APPAREL              3404.527\n",
       "             ELECTRONICS          5905.274\n",
       "             FOOD                  420.912\n",
       "             HEALTH & BEAUTY       172.945\n",
       "10498        APPAREL              1723.623\n",
       "             ELECTRONICS          3424.110\n",
       "             FOOD                  783.588\n",
       "             HEALTH & BEAUTY       320.145\n",
       "10499        HEALTH & BEAUTY        20.010\n",
       "10500        APPAREL              1511.748\n",
       "             ELECTRONICS          2632.269\n",
       "             FOOD                   38.015\n",
       "\n",
       "[1427 rows x 1 columns]"
      ]
     },
     "execution_count": 67,
     "metadata": {},
     "output_type": "execute_result"
    }
   ],
   "source": [
    "customer_prod_category"
   ]
  },
  {
   "cell_type": "code",
   "execution_count": 69,
   "metadata": {},
   "outputs": [
    {
     "data": {
      "text/plain": [
       "Index(['TOTAL PRICE'], dtype='object')"
      ]
     },
     "execution_count": 69,
     "metadata": {},
     "output_type": "execute_result"
    }
   ],
   "source": [
    "customer_prod_category.columns"
   ]
  },
  {
   "cell_type": "code",
   "execution_count": 70,
   "metadata": {},
   "outputs": [
    {
     "data": {
      "text/html": [
       "<div>\n",
       "<style scoped>\n",
       "    .dataframe tbody tr th:only-of-type {\n",
       "        vertical-align: middle;\n",
       "    }\n",
       "\n",
       "    .dataframe tbody tr th {\n",
       "        vertical-align: top;\n",
       "    }\n",
       "\n",
       "    .dataframe thead th {\n",
       "        text-align: right;\n",
       "    }\n",
       "</style>\n",
       "<table border=\"1\" class=\"dataframe\">\n",
       "  <thead>\n",
       "    <tr style=\"text-align: right;\">\n",
       "      <th></th>\n",
       "      <th>CUSTOMER NUM</th>\n",
       "      <th>PRODUCT CATEGORY</th>\n",
       "      <th>TOTAL PRICE</th>\n",
       "    </tr>\n",
       "  </thead>\n",
       "  <tbody>\n",
       "    <tr>\n",
       "      <th>0</th>\n",
       "      <td>10001</td>\n",
       "      <td>APPAREL</td>\n",
       "      <td>4022.430</td>\n",
       "    </tr>\n",
       "    <tr>\n",
       "      <th>1</th>\n",
       "      <td>10001</td>\n",
       "      <td>ELECTRONICS</td>\n",
       "      <td>1601.315</td>\n",
       "    </tr>\n",
       "    <tr>\n",
       "      <th>2</th>\n",
       "      <td>10001</td>\n",
       "      <td>FOOD</td>\n",
       "      <td>68.688</td>\n",
       "    </tr>\n",
       "    <tr>\n",
       "      <th>3</th>\n",
       "      <td>10001</td>\n",
       "      <td>HEALTH &amp; BEAUTY</td>\n",
       "      <td>1134.337</td>\n",
       "    </tr>\n",
       "    <tr>\n",
       "      <th>4</th>\n",
       "      <td>10002</td>\n",
       "      <td>APPAREL</td>\n",
       "      <td>2312.509</td>\n",
       "    </tr>\n",
       "  </tbody>\n",
       "</table>\n",
       "</div>"
      ],
      "text/plain": [
       "   CUSTOMER NUM PRODUCT CATEGORY  TOTAL PRICE\n",
       "0         10001          APPAREL     4022.430\n",
       "1         10001      ELECTRONICS     1601.315\n",
       "2         10001             FOOD       68.688\n",
       "3         10001  HEALTH & BEAUTY     1134.337\n",
       "4         10002          APPAREL     2312.509"
      ]
     },
     "execution_count": 70,
     "metadata": {},
     "output_type": "execute_result"
    }
   ],
   "source": [
    "customer_prod_category.reset_index().head()"
   ]
  },
  {
   "cell_type": "code",
   "execution_count": 71,
   "metadata": {},
   "outputs": [],
   "source": [
    "customer_prod_category=customer_prod_category.reset_index()"
   ]
  },
  {
   "cell_type": "code",
   "execution_count": 72,
   "metadata": {},
   "outputs": [],
   "source": [
    "customer_pivot=customer_prod_category.pivot(index='CUSTOMER NUM',columns='PRODUCT CATEGORY',values='TOTAL PRICE')"
   ]
  },
  {
   "cell_type": "code",
   "execution_count": 73,
   "metadata": {},
   "outputs": [
    {
     "data": {
      "text/html": [
       "<div>\n",
       "<style scoped>\n",
       "    .dataframe tbody tr th:only-of-type {\n",
       "        vertical-align: middle;\n",
       "    }\n",
       "\n",
       "    .dataframe tbody tr th {\n",
       "        vertical-align: top;\n",
       "    }\n",
       "\n",
       "    .dataframe thead th {\n",
       "        text-align: right;\n",
       "    }\n",
       "</style>\n",
       "<table border=\"1\" class=\"dataframe\">\n",
       "  <thead>\n",
       "    <tr style=\"text-align: right;\">\n",
       "      <th>PRODUCT CATEGORY</th>\n",
       "      <th>APPAREL</th>\n",
       "      <th>ELECTRONICS</th>\n",
       "      <th>FOOD</th>\n",
       "      <th>HEALTH &amp; BEAUTY</th>\n",
       "    </tr>\n",
       "    <tr>\n",
       "      <th>CUSTOMER NUM</th>\n",
       "      <th></th>\n",
       "      <th></th>\n",
       "      <th></th>\n",
       "      <th></th>\n",
       "    </tr>\n",
       "  </thead>\n",
       "  <tbody>\n",
       "    <tr>\n",
       "      <th>10001</th>\n",
       "      <td>4022.430</td>\n",
       "      <td>1601.315</td>\n",
       "      <td>68.688</td>\n",
       "      <td>1134.337</td>\n",
       "    </tr>\n",
       "    <tr>\n",
       "      <th>10002</th>\n",
       "      <td>2312.509</td>\n",
       "      <td>2473.163</td>\n",
       "      <td>276.779</td>\n",
       "      <td>NaN</td>\n",
       "    </tr>\n",
       "    <tr>\n",
       "      <th>10003</th>\n",
       "      <td>2887.382</td>\n",
       "      <td>5414.418</td>\n",
       "      <td>260.640</td>\n",
       "      <td>NaN</td>\n",
       "    </tr>\n",
       "    <tr>\n",
       "      <th>10004</th>\n",
       "      <td>3637.213</td>\n",
       "      <td>1840.211</td>\n",
       "      <td>45.270</td>\n",
       "      <td>NaN</td>\n",
       "    </tr>\n",
       "    <tr>\n",
       "      <th>10005</th>\n",
       "      <td>213.512</td>\n",
       "      <td>NaN</td>\n",
       "      <td>NaN</td>\n",
       "      <td>NaN</td>\n",
       "    </tr>\n",
       "  </tbody>\n",
       "</table>\n",
       "</div>"
      ],
      "text/plain": [
       "PRODUCT CATEGORY   APPAREL  ELECTRONICS     FOOD  HEALTH & BEAUTY\n",
       "CUSTOMER NUM                                                     \n",
       "10001             4022.430     1601.315   68.688         1134.337\n",
       "10002             2312.509     2473.163  276.779              NaN\n",
       "10003             2887.382     5414.418  260.640              NaN\n",
       "10004             3637.213     1840.211   45.270              NaN\n",
       "10005              213.512          NaN      NaN              NaN"
      ]
     },
     "execution_count": 73,
     "metadata": {},
     "output_type": "execute_result"
    }
   ],
   "source": [
    "customer_pivot.head()"
   ]
  },
  {
   "cell_type": "code",
   "execution_count": 74,
   "metadata": {},
   "outputs": [],
   "source": [
    "trans_products['TRANSACTION DATE']=trans_products['TRANSACTION DATE'].map(lambda x : datetime.strptime(x, '%m/%d/%Y'))"
   ]
  },
  {
   "cell_type": "code",
   "execution_count": 76,
   "metadata": {},
   "outputs": [
    {
     "data": {
      "text/html": [
       "<div>\n",
       "<style scoped>\n",
       "    .dataframe tbody tr th:only-of-type {\n",
       "        vertical-align: middle;\n",
       "    }\n",
       "\n",
       "    .dataframe tbody tr th {\n",
       "        vertical-align: top;\n",
       "    }\n",
       "\n",
       "    .dataframe thead th {\n",
       "        text-align: right;\n",
       "    }\n",
       "</style>\n",
       "<table border=\"1\" class=\"dataframe\">\n",
       "  <thead>\n",
       "    <tr style=\"text-align: right;\">\n",
       "      <th></th>\n",
       "      <th>TRANSACTION DATE</th>\n",
       "      <th>TOTAL SPENT</th>\n",
       "    </tr>\n",
       "    <tr>\n",
       "      <th>CUSTOMER NUM</th>\n",
       "      <th></th>\n",
       "      <th></th>\n",
       "    </tr>\n",
       "  </thead>\n",
       "  <tbody>\n",
       "    <tr>\n",
       "      <th>10001</th>\n",
       "      <td>2015-12-24</td>\n",
       "      <td>6826.770</td>\n",
       "    </tr>\n",
       "    <tr>\n",
       "      <th>10002</th>\n",
       "      <td>2015-12-21</td>\n",
       "      <td>5062.451</td>\n",
       "    </tr>\n",
       "    <tr>\n",
       "      <th>10003</th>\n",
       "      <td>2015-12-31</td>\n",
       "      <td>8562.440</td>\n",
       "    </tr>\n",
       "    <tr>\n",
       "      <th>10004</th>\n",
       "      <td>2015-12-17</td>\n",
       "      <td>5522.694</td>\n",
       "    </tr>\n",
       "    <tr>\n",
       "      <th>10005</th>\n",
       "      <td>2015-12-22</td>\n",
       "      <td>213.512</td>\n",
       "    </tr>\n",
       "  </tbody>\n",
       "</table>\n",
       "</div>"
      ],
      "text/plain": [
       "             TRANSACTION DATE  TOTAL SPENT\n",
       "CUSTOMER NUM                              \n",
       "10001              2015-12-24     6826.770\n",
       "10002              2015-12-21     5062.451\n",
       "10003              2015-12-31     8562.440\n",
       "10004              2015-12-17     5522.694\n",
       "10005              2015-12-22      213.512"
      ]
     },
     "execution_count": 76,
     "metadata": {},
     "output_type": "execute_result"
    }
   ],
   "source": [
    "recent_trans_total_spend=trans_products.groupby('CUSTOMER NUM').\\\n",
    "agg({'TRANSACTION DATE':'max','TOTAL PRICE':'sum'}).\\\n",
    "rename(columns={'TRANSACTIN DATE':'RECENT TRANSACTION DATE','TOTAL PRICE':'TOTAL SPENT'})\n",
    "recent_trans_total_spend.head()"
   ]
  },
  {
   "cell_type": "code",
   "execution_count": 77,
   "metadata": {},
   "outputs": [],
   "source": [
    "customer_KPIs=customer_pivot.merge(recent_trans_total_spend,how='inner',left_index=True,right_index=True)"
   ]
  },
  {
   "cell_type": "code",
   "execution_count": 78,
   "metadata": {},
   "outputs": [
    {
     "data": {
      "text/html": [
       "<div>\n",
       "<style scoped>\n",
       "    .dataframe tbody tr th:only-of-type {\n",
       "        vertical-align: middle;\n",
       "    }\n",
       "\n",
       "    .dataframe tbody tr th {\n",
       "        vertical-align: top;\n",
       "    }\n",
       "\n",
       "    .dataframe thead th {\n",
       "        text-align: right;\n",
       "    }\n",
       "</style>\n",
       "<table border=\"1\" class=\"dataframe\">\n",
       "  <thead>\n",
       "    <tr style=\"text-align: right;\">\n",
       "      <th></th>\n",
       "      <th>APPAREL</th>\n",
       "      <th>ELECTRONICS</th>\n",
       "      <th>FOOD</th>\n",
       "      <th>HEALTH &amp; BEAUTY</th>\n",
       "      <th>TRANSACTION DATE</th>\n",
       "      <th>TOTAL SPENT</th>\n",
       "    </tr>\n",
       "    <tr>\n",
       "      <th>CUSTOMER NUM</th>\n",
       "      <th></th>\n",
       "      <th></th>\n",
       "      <th></th>\n",
       "      <th></th>\n",
       "      <th></th>\n",
       "      <th></th>\n",
       "    </tr>\n",
       "  </thead>\n",
       "  <tbody>\n",
       "    <tr>\n",
       "      <th>10001</th>\n",
       "      <td>4022.430</td>\n",
       "      <td>1601.315</td>\n",
       "      <td>68.688</td>\n",
       "      <td>1134.337</td>\n",
       "      <td>2015-12-24</td>\n",
       "      <td>6826.770</td>\n",
       "    </tr>\n",
       "    <tr>\n",
       "      <th>10002</th>\n",
       "      <td>2312.509</td>\n",
       "      <td>2473.163</td>\n",
       "      <td>276.779</td>\n",
       "      <td>NaN</td>\n",
       "      <td>2015-12-21</td>\n",
       "      <td>5062.451</td>\n",
       "    </tr>\n",
       "    <tr>\n",
       "      <th>10003</th>\n",
       "      <td>2887.382</td>\n",
       "      <td>5414.418</td>\n",
       "      <td>260.640</td>\n",
       "      <td>NaN</td>\n",
       "      <td>2015-12-31</td>\n",
       "      <td>8562.440</td>\n",
       "    </tr>\n",
       "    <tr>\n",
       "      <th>10004</th>\n",
       "      <td>3637.213</td>\n",
       "      <td>1840.211</td>\n",
       "      <td>45.270</td>\n",
       "      <td>NaN</td>\n",
       "      <td>2015-12-17</td>\n",
       "      <td>5522.694</td>\n",
       "    </tr>\n",
       "    <tr>\n",
       "      <th>10005</th>\n",
       "      <td>213.512</td>\n",
       "      <td>NaN</td>\n",
       "      <td>NaN</td>\n",
       "      <td>NaN</td>\n",
       "      <td>2015-12-22</td>\n",
       "      <td>213.512</td>\n",
       "    </tr>\n",
       "  </tbody>\n",
       "</table>\n",
       "</div>"
      ],
      "text/plain": [
       "               APPAREL  ELECTRONICS     FOOD  HEALTH & BEAUTY  \\\n",
       "CUSTOMER NUM                                                    \n",
       "10001         4022.430     1601.315   68.688         1134.337   \n",
       "10002         2312.509     2473.163  276.779              NaN   \n",
       "10003         2887.382     5414.418  260.640              NaN   \n",
       "10004         3637.213     1840.211   45.270              NaN   \n",
       "10005          213.512          NaN      NaN              NaN   \n",
       "\n",
       "             TRANSACTION DATE  TOTAL SPENT  \n",
       "CUSTOMER NUM                                \n",
       "10001              2015-12-24     6826.770  \n",
       "10002              2015-12-21     5062.451  \n",
       "10003              2015-12-31     8562.440  \n",
       "10004              2015-12-17     5522.694  \n",
       "10005              2015-12-22      213.512  "
      ]
     },
     "execution_count": 78,
     "metadata": {},
     "output_type": "execute_result"
    }
   ],
   "source": [
    "customer_KPIs.head()"
   ]
  },
  {
   "cell_type": "code",
   "execution_count": 79,
   "metadata": {},
   "outputs": [
    {
     "data": {
      "text/html": [
       "<div>\n",
       "<style scoped>\n",
       "    .dataframe tbody tr th:only-of-type {\n",
       "        vertical-align: middle;\n",
       "    }\n",
       "\n",
       "    .dataframe tbody tr th {\n",
       "        vertical-align: top;\n",
       "    }\n",
       "\n",
       "    .dataframe thead th {\n",
       "        text-align: right;\n",
       "    }\n",
       "</style>\n",
       "<table border=\"1\" class=\"dataframe\">\n",
       "  <thead>\n",
       "    <tr style=\"text-align: right;\">\n",
       "      <th></th>\n",
       "      <th>APPAREL</th>\n",
       "      <th>ELECTRONICS</th>\n",
       "      <th>FOOD</th>\n",
       "      <th>HEALTH &amp; BEAUTY</th>\n",
       "      <th>TRANSACTION DATE</th>\n",
       "      <th>TOTAL SPENT</th>\n",
       "    </tr>\n",
       "    <tr>\n",
       "      <th>CUSTOMER NUM</th>\n",
       "      <th></th>\n",
       "      <th></th>\n",
       "      <th></th>\n",
       "      <th></th>\n",
       "      <th></th>\n",
       "      <th></th>\n",
       "    </tr>\n",
       "  </thead>\n",
       "  <tbody>\n",
       "    <tr>\n",
       "      <th>10001</th>\n",
       "      <td>4022.430</td>\n",
       "      <td>1601.315</td>\n",
       "      <td>68.688</td>\n",
       "      <td>1134.337</td>\n",
       "      <td>2015-12-24</td>\n",
       "      <td>6826.770</td>\n",
       "    </tr>\n",
       "    <tr>\n",
       "      <th>10002</th>\n",
       "      <td>2312.509</td>\n",
       "      <td>2473.163</td>\n",
       "      <td>276.779</td>\n",
       "      <td>0.000</td>\n",
       "      <td>2015-12-21</td>\n",
       "      <td>5062.451</td>\n",
       "    </tr>\n",
       "    <tr>\n",
       "      <th>10003</th>\n",
       "      <td>2887.382</td>\n",
       "      <td>5414.418</td>\n",
       "      <td>260.640</td>\n",
       "      <td>0.000</td>\n",
       "      <td>2015-12-31</td>\n",
       "      <td>8562.440</td>\n",
       "    </tr>\n",
       "    <tr>\n",
       "      <th>10004</th>\n",
       "      <td>3637.213</td>\n",
       "      <td>1840.211</td>\n",
       "      <td>45.270</td>\n",
       "      <td>0.000</td>\n",
       "      <td>2015-12-17</td>\n",
       "      <td>5522.694</td>\n",
       "    </tr>\n",
       "    <tr>\n",
       "      <th>10005</th>\n",
       "      <td>213.512</td>\n",
       "      <td>0.000</td>\n",
       "      <td>0.000</td>\n",
       "      <td>0.000</td>\n",
       "      <td>2015-12-22</td>\n",
       "      <td>213.512</td>\n",
       "    </tr>\n",
       "  </tbody>\n",
       "</table>\n",
       "</div>"
      ],
      "text/plain": [
       "               APPAREL  ELECTRONICS     FOOD  HEALTH & BEAUTY  \\\n",
       "CUSTOMER NUM                                                    \n",
       "10001         4022.430     1601.315   68.688         1134.337   \n",
       "10002         2312.509     2473.163  276.779            0.000   \n",
       "10003         2887.382     5414.418  260.640            0.000   \n",
       "10004         3637.213     1840.211   45.270            0.000   \n",
       "10005          213.512        0.000    0.000            0.000   \n",
       "\n",
       "             TRANSACTION DATE  TOTAL SPENT  \n",
       "CUSTOMER NUM                                \n",
       "10001              2015-12-24     6826.770  \n",
       "10002              2015-12-21     5062.451  \n",
       "10003              2015-12-31     8562.440  \n",
       "10004              2015-12-17     5522.694  \n",
       "10005              2015-12-22      213.512  "
      ]
     },
     "execution_count": 79,
     "metadata": {},
     "output_type": "execute_result"
    }
   ],
   "source": [
    "customer_KPIs=customer_KPIs.fillna(0)\n",
    "customer_KPIs.head()"
   ]
  },
  {
   "cell_type": "code",
   "execution_count": 80,
   "metadata": {},
   "outputs": [],
   "source": [
    "customer_all_view=customer_data.merge(customer_KPIs,how='inner',left_on='CUSTOMERID',right_index=True)"
   ]
  },
  {
   "cell_type": "code",
   "execution_count": 81,
   "metadata": {},
   "outputs": [
    {
     "data": {
      "text/html": [
       "<div>\n",
       "<style scoped>\n",
       "    .dataframe tbody tr th:only-of-type {\n",
       "        vertical-align: middle;\n",
       "    }\n",
       "\n",
       "    .dataframe tbody tr th {\n",
       "        vertical-align: top;\n",
       "    }\n",
       "\n",
       "    .dataframe thead th {\n",
       "        text-align: right;\n",
       "    }\n",
       "</style>\n",
       "<table border=\"1\" class=\"dataframe\">\n",
       "  <thead>\n",
       "    <tr style=\"text-align: right;\">\n",
       "      <th></th>\n",
       "      <th>CUSTOMERID</th>\n",
       "      <th>GENDER</th>\n",
       "      <th>AGE</th>\n",
       "      <th>INCOME</th>\n",
       "      <th>EXPERIENCE SCORE</th>\n",
       "      <th>LOYALTY GROUP</th>\n",
       "      <th>ENROLLMENT DATE</th>\n",
       "      <th>HOUSEHOLD SIZE</th>\n",
       "      <th>MARITAL STATUS</th>\n",
       "      <th>APPAREL</th>\n",
       "      <th>ELECTRONICS</th>\n",
       "      <th>FOOD</th>\n",
       "      <th>HEALTH &amp; BEAUTY</th>\n",
       "      <th>TRANSACTION DATE</th>\n",
       "      <th>TOTAL SPENT</th>\n",
       "    </tr>\n",
       "  </thead>\n",
       "  <tbody>\n",
       "    <tr>\n",
       "      <th>0</th>\n",
       "      <td>10001</td>\n",
       "      <td>0</td>\n",
       "      <td>64</td>\n",
       "      <td>133498</td>\n",
       "      <td>5</td>\n",
       "      <td>enrolled</td>\n",
       "      <td>2013-03-06</td>\n",
       "      <td>4</td>\n",
       "      <td>Single</td>\n",
       "      <td>4022.430</td>\n",
       "      <td>1601.315</td>\n",
       "      <td>68.688</td>\n",
       "      <td>1134.337</td>\n",
       "      <td>2015-12-24</td>\n",
       "      <td>6826.770</td>\n",
       "    </tr>\n",
       "    <tr>\n",
       "      <th>1</th>\n",
       "      <td>10002</td>\n",
       "      <td>0</td>\n",
       "      <td>42</td>\n",
       "      <td>94475</td>\n",
       "      <td>9</td>\n",
       "      <td>notenrolled</td>\n",
       "      <td>NaT</td>\n",
       "      <td>6</td>\n",
       "      <td>Married</td>\n",
       "      <td>2312.509</td>\n",
       "      <td>2473.163</td>\n",
       "      <td>276.779</td>\n",
       "      <td>0.000</td>\n",
       "      <td>2015-12-21</td>\n",
       "      <td>5062.451</td>\n",
       "    </tr>\n",
       "    <tr>\n",
       "      <th>2</th>\n",
       "      <td>10003</td>\n",
       "      <td>0</td>\n",
       "      <td>40</td>\n",
       "      <td>88610</td>\n",
       "      <td>9</td>\n",
       "      <td>enrolled</td>\n",
       "      <td>2010-09-02</td>\n",
       "      <td>5</td>\n",
       "      <td>Married</td>\n",
       "      <td>2887.382</td>\n",
       "      <td>5414.418</td>\n",
       "      <td>260.640</td>\n",
       "      <td>0.000</td>\n",
       "      <td>2015-12-31</td>\n",
       "      <td>8562.440</td>\n",
       "    </tr>\n",
       "    <tr>\n",
       "      <th>3</th>\n",
       "      <td>10004</td>\n",
       "      <td>0</td>\n",
       "      <td>38</td>\n",
       "      <td>84313</td>\n",
       "      <td>8</td>\n",
       "      <td>enrolled</td>\n",
       "      <td>2015-04-06</td>\n",
       "      <td>1</td>\n",
       "      <td>Single</td>\n",
       "      <td>3637.213</td>\n",
       "      <td>1840.211</td>\n",
       "      <td>45.270</td>\n",
       "      <td>0.000</td>\n",
       "      <td>2015-12-17</td>\n",
       "      <td>5522.694</td>\n",
       "    </tr>\n",
       "    <tr>\n",
       "      <th>4</th>\n",
       "      <td>10005</td>\n",
       "      <td>0</td>\n",
       "      <td>30</td>\n",
       "      <td>51498</td>\n",
       "      <td>3</td>\n",
       "      <td>notenrolled</td>\n",
       "      <td>NaT</td>\n",
       "      <td>1</td>\n",
       "      <td>Single</td>\n",
       "      <td>213.512</td>\n",
       "      <td>0.000</td>\n",
       "      <td>0.000</td>\n",
       "      <td>0.000</td>\n",
       "      <td>2015-12-22</td>\n",
       "      <td>213.512</td>\n",
       "    </tr>\n",
       "  </tbody>\n",
       "</table>\n",
       "</div>"
      ],
      "text/plain": [
       "   CUSTOMERID  GENDER  AGE  INCOME  EXPERIENCE SCORE LOYALTY GROUP  \\\n",
       "0       10001       0   64  133498                 5      enrolled   \n",
       "1       10002       0   42   94475                 9   notenrolled   \n",
       "2       10003       0   40   88610                 9      enrolled   \n",
       "3       10004       0   38   84313                 8      enrolled   \n",
       "4       10005       0   30   51498                 3   notenrolled   \n",
       "\n",
       "  ENROLLMENT DATE  HOUSEHOLD SIZE MARITAL STATUS   APPAREL  ELECTRONICS  \\\n",
       "0      2013-03-06               4         Single  4022.430     1601.315   \n",
       "1             NaT               6        Married  2312.509     2473.163   \n",
       "2      2010-09-02               5        Married  2887.382     5414.418   \n",
       "3      2015-04-06               1         Single  3637.213     1840.211   \n",
       "4             NaT               1         Single   213.512        0.000   \n",
       "\n",
       "      FOOD  HEALTH & BEAUTY TRANSACTION DATE  TOTAL SPENT  \n",
       "0   68.688         1134.337       2015-12-24     6826.770  \n",
       "1  276.779            0.000       2015-12-21     5062.451  \n",
       "2  260.640            0.000       2015-12-31     8562.440  \n",
       "3   45.270            0.000       2015-12-17     5522.694  \n",
       "4    0.000            0.000       2015-12-22      213.512  "
      ]
     },
     "execution_count": 81,
     "metadata": {},
     "output_type": "execute_result"
    }
   ],
   "source": [
    "customer_all_view.head()"
   ]
  },
  {
   "cell_type": "code",
   "execution_count": 82,
   "metadata": {},
   "outputs": [
    {
     "data": {
      "text/html": [
       "<div>\n",
       "<style scoped>\n",
       "    .dataframe tbody tr th:only-of-type {\n",
       "        vertical-align: middle;\n",
       "    }\n",
       "\n",
       "    .dataframe tbody tr th {\n",
       "        vertical-align: top;\n",
       "    }\n",
       "\n",
       "    .dataframe thead th {\n",
       "        text-align: right;\n",
       "    }\n",
       "</style>\n",
       "<table border=\"1\" class=\"dataframe\">\n",
       "  <thead>\n",
       "    <tr style=\"text-align: right;\">\n",
       "      <th>LOYALTY GROUP</th>\n",
       "      <th>enrolled</th>\n",
       "      <th>notenrolled</th>\n",
       "    </tr>\n",
       "    <tr>\n",
       "      <th>GENDER</th>\n",
       "      <th></th>\n",
       "      <th></th>\n",
       "    </tr>\n",
       "  </thead>\n",
       "  <tbody>\n",
       "    <tr>\n",
       "      <th>0</th>\n",
       "      <td>131</td>\n",
       "      <td>120</td>\n",
       "    </tr>\n",
       "    <tr>\n",
       "      <th>1</th>\n",
       "      <td>133</td>\n",
       "      <td>116</td>\n",
       "    </tr>\n",
       "  </tbody>\n",
       "</table>\n",
       "</div>"
      ],
      "text/plain": [
       "LOYALTY GROUP  enrolled  notenrolled\n",
       "GENDER                              \n",
       "0                   131          120\n",
       "1                   133          116"
      ]
     },
     "execution_count": 82,
     "metadata": {},
     "output_type": "execute_result"
    }
   ],
   "source": [
    "# bivariate analysis - loyalty as a target\n",
    "table=pd.crosstab(customer_all_view['GENDER'],customer_all_view['LOYALTY GROUP'])\n",
    "table"
   ]
  },
  {
   "cell_type": "code",
   "execution_count": 83,
   "metadata": {},
   "outputs": [
    {
     "data": {
      "text/plain": [
       "<matplotlib.axes._subplots.AxesSubplot at 0x11f94cac8>"
      ]
     },
     "execution_count": 83,
     "metadata": {},
     "output_type": "execute_result"
    },
    {
     "data": {
      "image/png": "[encoded data removed]",
      "text/plain": [
       "<Figure size 432x432 with 1 Axes>"
      ]
     },
     "metadata": {
      "needs_background": "light"
     },
     "output_type": "display_data"
    }
   ],
   "source": [
    "table.plot(kind='bar',stacked=True,figsize=(6,6))"
   ]
  },
  {
   "cell_type": "code",
   "execution_count": 84,
   "metadata": {},
   "outputs": [],
   "source": [
    "# Experience score\n",
    "table=pd.crosstab(customer_all_view['EXPERIENCE SCORE'],customer_all_view['LOYALTY GROUP'])"
   ]
  },
  {
   "cell_type": "code",
   "execution_count": 86,
   "metadata": {},
   "outputs": [
    {
     "data": {
      "text/html": [
       "<div>\n",
       "<style scoped>\n",
       "    .dataframe tbody tr th:only-of-type {\n",
       "        vertical-align: middle;\n",
       "    }\n",
       "\n",
       "    .dataframe tbody tr th {\n",
       "        vertical-align: top;\n",
       "    }\n",
       "\n",
       "    .dataframe thead th {\n",
       "        text-align: right;\n",
       "    }\n",
       "</style>\n",
       "<table border=\"1\" class=\"dataframe\">\n",
       "  <thead>\n",
       "    <tr style=\"text-align: right;\">\n",
       "      <th>LOYALTY GROUP</th>\n",
       "      <th>enrolled</th>\n",
       "      <th>notenrolled</th>\n",
       "    </tr>\n",
       "    <tr>\n",
       "      <th>EXPERIENCE SCORE</th>\n",
       "      <th></th>\n",
       "      <th></th>\n",
       "    </tr>\n",
       "  </thead>\n",
       "  <tbody>\n",
       "    <tr>\n",
       "      <th>1</th>\n",
       "      <td>0</td>\n",
       "      <td>28</td>\n",
       "    </tr>\n",
       "    <tr>\n",
       "      <th>2</th>\n",
       "      <td>0</td>\n",
       "      <td>19</td>\n",
       "    </tr>\n",
       "    <tr>\n",
       "      <th>3</th>\n",
       "      <td>0</td>\n",
       "      <td>18</td>\n",
       "    </tr>\n",
       "    <tr>\n",
       "      <th>4</th>\n",
       "      <td>0</td>\n",
       "      <td>22</td>\n",
       "    </tr>\n",
       "    <tr>\n",
       "      <th>5</th>\n",
       "      <td>43</td>\n",
       "      <td>23</td>\n",
       "    </tr>\n",
       "    <tr>\n",
       "      <th>6</th>\n",
       "      <td>48</td>\n",
       "      <td>32</td>\n",
       "    </tr>\n",
       "    <tr>\n",
       "      <th>7</th>\n",
       "      <td>49</td>\n",
       "      <td>22</td>\n",
       "    </tr>\n",
       "    <tr>\n",
       "      <th>8</th>\n",
       "      <td>42</td>\n",
       "      <td>21</td>\n",
       "    </tr>\n",
       "    <tr>\n",
       "      <th>9</th>\n",
       "      <td>44</td>\n",
       "      <td>28</td>\n",
       "    </tr>\n",
       "    <tr>\n",
       "      <th>10</th>\n",
       "      <td>38</td>\n",
       "      <td>23</td>\n",
       "    </tr>\n",
       "  </tbody>\n",
       "</table>\n",
       "</div>"
      ],
      "text/plain": [
       "LOYALTY GROUP     enrolled  notenrolled\n",
       "EXPERIENCE SCORE                       \n",
       "1                        0           28\n",
       "2                        0           19\n",
       "3                        0           18\n",
       "4                        0           22\n",
       "5                       43           23\n",
       "6                       48           32\n",
       "7                       49           22\n",
       "8                       42           21\n",
       "9                       44           28\n",
       "10                      38           23"
      ]
     },
     "execution_count": 86,
     "metadata": {},
     "output_type": "execute_result"
    }
   ],
   "source": [
    "table"
   ]
  },
  {
   "cell_type": "code",
   "execution_count": 87,
   "metadata": {},
   "outputs": [
    {
     "data": {
      "image/png": "[encoded data removed]",
      "text/plain": [
       "<Figure size 432x432 with 1 Axes>"
      ]
     },
     "metadata": {
      "needs_background": "light"
     },
     "output_type": "display_data"
    }
   ],
   "source": [
    "table.plot(kind='bar', stacked=True, figsize=(6,6))\n",
    "plt.show()"
   ]
  },
  {
   "cell_type": "code",
   "execution_count": 89,
   "metadata": {},
   "outputs": [
    {
     "data": {
      "image/png": "[encoded data removed]",
      "text/plain": [
       "<Figure size 432x432 with 1 Axes>"
      ]
     },
     "metadata": {
      "needs_background": "light"
     },
     "output_type": "display_data"
    }
   ],
   "source": [
    "#Marital status\n",
    "table=pd.crosstab(customer_all_view['MARITAL STATUS'],customer_all_view['LOYALTY GROUP'])\n",
    "table.plot(kind='bar',stacked=True,figsize=(6,6))\n",
    "plt.show()"
   ]
  },
  {
   "cell_type": "code",
   "execution_count": 90,
   "metadata": {},
   "outputs": [],
   "source": [
    "# Age\n",
    "customer_all_view['AGE BINNED']=pd.cut(customer_all_view['AGE'],10)"
   ]
  },
  {
   "cell_type": "code",
   "execution_count": 92,
   "metadata": {},
   "outputs": [
    {
     "data": {
      "text/plain": [
       "(32.4, 39.6]      94\n",
       "(39.6, 46.8]      91\n",
       "(25.2, 32.4]      86\n",
       "(17.928, 25.2]    78\n",
       "(46.8, 54.0]      51\n",
       "(54.0, 61.2]      24\n",
       "(82.8, 90.0]      23\n",
       "(61.2, 68.4]      23\n",
       "(75.6, 82.8]      16\n",
       "(68.4, 75.6]      14\n",
       "Name: AGE BINNED, dtype: int64"
      ]
     },
     "execution_count": 92,
     "metadata": {},
     "output_type": "execute_result"
    }
   ],
   "source": [
    "customer_all_view['AGE BINNED'].value_counts()"
   ]
  },
  {
   "cell_type": "code",
   "execution_count": 93,
   "metadata": {},
   "outputs": [
    {
     "data": {
      "image/png": "[encoded data removed]",
      "text/plain": [
       "<Figure size 432x432 with 1 Axes>"
      ]
     },
     "metadata": {
      "needs_background": "light"
     },
     "output_type": "display_data"
    }
   ],
   "source": [
    "table=pd.crosstab(customer_all_view['AGE BINNED'],customer_all_view['LOYALTY GROUP'])\n",
    "table.plot(kind='bar',stacked=True,figsize=(6,6))\n",
    "plt.show()"
   ]
  },
  {
   "cell_type": "code",
   "execution_count": 94,
   "metadata": {},
   "outputs": [
    {
     "data": {
      "text/html": [
       "<div>\n",
       "<style scoped>\n",
       "    .dataframe tbody tr th:only-of-type {\n",
       "        vertical-align: middle;\n",
       "    }\n",
       "\n",
       "    .dataframe tbody tr th {\n",
       "        vertical-align: top;\n",
       "    }\n",
       "\n",
       "    .dataframe thead th {\n",
       "        text-align: right;\n",
       "    }\n",
       "</style>\n",
       "<table border=\"1\" class=\"dataframe\">\n",
       "  <thead>\n",
       "    <tr style=\"text-align: right;\">\n",
       "      <th></th>\n",
       "      <th>AGE</th>\n",
       "    </tr>\n",
       "    <tr>\n",
       "      <th>LOYALTY GROUP</th>\n",
       "      <th></th>\n",
       "    </tr>\n",
       "  </thead>\n",
       "  <tbody>\n",
       "    <tr>\n",
       "      <th>enrolled</th>\n",
       "      <td>44.723485</td>\n",
       "    </tr>\n",
       "    <tr>\n",
       "      <th>notenrolled</th>\n",
       "      <td>39.622881</td>\n",
       "    </tr>\n",
       "  </tbody>\n",
       "</table>\n",
       "</div>"
      ],
      "text/plain": [
       "                     AGE\n",
       "LOYALTY GROUP           \n",
       "enrolled       44.723485\n",
       "notenrolled    39.622881"
      ]
     },
     "execution_count": 94,
     "metadata": {},
     "output_type": "execute_result"
    }
   ],
   "source": [
    "customer_all_view.groupby('LOYALTY GROUP').agg({'AGE':'mean'})"
   ]
  },
  {
   "cell_type": "code",
   "execution_count": 95,
   "metadata": {},
   "outputs": [
    {
     "data": {
      "image/png": "[encoded data removed]",
      "text/plain": [
       "<Figure size 648x432 with 1 Axes>"
      ]
     },
     "metadata": {
      "needs_background": "light"
     },
     "output_type": "display_data"
    }
   ],
   "source": [
    "fig = plt.figure(1, figsize=(9,6))\n",
    "ax=fig.add_subplot(111)\n",
    "plot1=customer_all_view['AGE'][customer_all_view['LOYALTY GROUP']=='enrolled']\n",
    "plot2=customer_all_view['AGE'][customer_all_view['LOYALTY GROUP']=='notenrolled']\n",
    "list1=[plot1,plot2]\n",
    "ax.boxplot(list1,0,'rs',1)\n",
    "ax.set_xticklabels(['Enrolled', 'Not Enrolled'])\n",
    "plt.grid(linestyle='-', linewidth=1)\n",
    "plt.show()"
   ]
  },
  {
   "cell_type": "code",
   "execution_count": 96,
   "metadata": {},
   "outputs": [],
   "source": [
    "customer_all_view['TOTAL SPENT BINNED']=pd.cut(customer_all_view['TOTAL SPENT'],10)"
   ]
  },
  {
   "cell_type": "code",
   "execution_count": 97,
   "metadata": {},
   "outputs": [
    {
     "data": {
      "image/png": "[encoded data removed]",
      "text/plain": [
       "<Figure size 648x648 with 1 Axes>"
      ]
     },
     "metadata": {
      "needs_background": "light"
     },
     "output_type": "display_data"
    }
   ],
   "source": [
    "table=pd.crosstab(customer_all_view['TOTAL SPENT BINNED'],customer_all_view['LOYALTY GROUP'])\n",
    "table.plot(kind='bar', stacked=True, figsize = (9,9))\n",
    "plt.show()"
   ]
  },
  {
   "cell_type": "code",
   "execution_count": 98,
   "metadata": {},
   "outputs": [
    {
     "data": {
      "image/png": "[encoded data removed]",
      "text/plain": [
       "<Figure size 432x288 with 1 Axes>"
      ]
     },
     "metadata": {
      "needs_background": "light"
     },
     "output_type": "display_data"
    }
   ],
   "source": [
    "plt.scatter(customer_all_view['AGE'],customer_all_view['TOTAL SPENT'])\n",
    "plt.xlabel('AGE')\n",
    "plt.ylabel('TOTAL SPENT')\n",
    "plt.show()"
   ]
  },
  {
   "cell_type": "code",
   "execution_count": 99,
   "metadata": {},
   "outputs": [
    {
     "data": {
      "text/plain": [
       "(0.5760170677259271, 1.5608217502782303e-45)"
      ]
     },
     "execution_count": 99,
     "metadata": {},
     "output_type": "execute_result"
    }
   ],
   "source": [
    "from scipy.stats import pearsonr\n",
    "pearsonr(customer_all_view['AGE'],customer_all_view['TOTAL SPENT'])"
   ]
  },
  {
   "cell_type": "code",
   "execution_count": 100,
   "metadata": {},
   "outputs": [
    {
     "data": {
      "image/png": "[encoded data removed]",
      "text/plain": [
       "<Figure size 432x288 with 1 Axes>"
      ]
     },
     "metadata": {
      "needs_background": "light"
     },
     "output_type": "display_data"
    }
   ],
   "source": [
    "plt.scatter(customer_all_view['INCOME'],customer_all_view['TOTAL SPENT'])\n",
    "plt.xlabel('Income')\n",
    "plt.ylabel('Total Spent')\n",
    "plt.show()"
   ]
  },
  {
   "cell_type": "code",
   "execution_count": 101,
   "metadata": {},
   "outputs": [
    {
     "data": {
      "text/plain": [
       "(0.6880311084625118, 2.322632696381397e-71)"
      ]
     },
     "execution_count": 101,
     "metadata": {},
     "output_type": "execute_result"
    }
   ],
   "source": [
    "pearsonr(customer_all_view['INCOME'], customer_all_view['TOTAL SPENT'])"
   ]
  },
  {
   "cell_type": "code",
   "execution_count": 104,
   "metadata": {},
   "outputs": [],
   "source": [
    "table=customer_all_view.groupby(['EXPERIENCE SCORE']).agg({'TOTAL SPENT':'mean'}).reset_index()"
   ]
  },
  {
   "cell_type": "code",
   "execution_count": 105,
   "metadata": {},
   "outputs": [
    {
     "data": {
      "image/png": "[encoded data removed]",
      "text/plain": [
       "<Figure size 432x288 with 1 Axes>"
      ]
     },
     "metadata": {
      "needs_background": "light"
     },
     "output_type": "display_data"
    }
   ],
   "source": [
    "table['TOTAL SPENT'].plot(kind='bar')\n",
    "plt.xlabel('Experience Score')\n",
    "plt.ylabel('Average total spent per score')\n",
    "plt.xticks([0,1,2,3,4,5,6,7,8,9],[1,2,3,4,5,6,7,8,9,10])\n",
    "plt.show()"
   ]
  },
  {
   "cell_type": "code",
   "execution_count": null,
   "metadata": {},
   "outputs": [],
   "source": []
  }
 ],
 "metadata": {
  "kernelspec": {
   "display_name": "Python 3",
   "language": "python",
   "name": "python3"
  },
  "language_info": {
   "codemirror_mode": {
    "name": "ipython",
    "version": 3
   },
   "file_extension": ".py",
   "mimetype": "text/x-python",
   "name": "python",
   "nbconvert_exporter": "python",
   "pygments_lexer": "ipython3",
   "version": "3.7.3"
  }
 },
 "nbformat": 4,
 "nbformat_minor": 2
}
